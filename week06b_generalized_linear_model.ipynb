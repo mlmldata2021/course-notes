{
 "cells": [
  {
   "cell_type": "markdown",
   "metadata": {},
   "source": [
    "### Week 06 - The generalized linear model ###\n",
    "\n",
    "#### Reference: \n",
    "\n",
    "http://statsthinking21.org\n",
    "\n",
    "* The general linear model\n",
    "* Comparing means"
   ]
  },
  {
   "cell_type": "markdown",
   "metadata": {},
   "source": [
    "### Multiple regression example: modeling aragonite saturation state\n",
    "\n",
    "\n",
    "![images/arag_sat.png](images/arag_sat.png)\n",
    "\n",
    "Source: Feeley et al. (2208) Evidence for upwelling of corrosive acidification water onto the continental shelf, Science\n",
    "\n",
    "At Aragonite staturation state > 1 aragonite (calcium carbonate will dissolve in seawater)\n",
    "\n",
    "Is there a way to estimate aragonite saturation state $\\Omega_{Ar}$ based on more commonly measured parameters?\n",
    "\n",
    "$$\\Omega = \\frac{[Ca^{2+}][CO_3^{2-}]}{K'_{sp}}$$\n",
    "\n",
    "Where $K'_{sp}$ is the stoichiometric solubility product function of T,S,pr and mineral phase (aragonite, calcite)\n",
    "\n",
    "$[Ca^{2+}]$  doesn't change much<br>\n",
    "$[CO_3^{2+}]$ can be calculated from chemical measurements of DIC, $pCO_2$, total alkalinity and pH (at least two of these 4 parameters).\n",
    "\n",
    "#### Models\n",
    "\n",
    "Juranek et al. (2009) describe a set of least squares regression models for aragonite saturation state, based on more commonly measured oceangraphic variables (temperature, salinity, pressure, oxygen and nitrate).\n",
    "\n",
    "Juranek, L. W., R. A. Feely, W. T. Peterson, S. R. Alin, B. Hales, K. Lee, C. L. Sabine, and J. Peterson, 2009: A novel method for determination of aragonite saturation state on the continental shelf of central Oregon using multi-parameter relationships with hydrographic data. Geophys. Res. Lett., 36, doi:10.1029/2009GL040778.\n",
    "\n",
    "##### Model 1 \n",
    "\n",
    "$$\\Omega_{arag}^e = \\beta_0 + \\beta_1T + \\beta_2S + \\beta_3P + \\beta_4O_2 + \\beta_5NO_3^-$$\n",
    "\n",
    "* Has high $R_a^2$ (\"adjusted\" $R^2$)\n",
    "* High \"variance inflation factor\"\n",
    "* Indicates multiple collinearity\n",
    "* Coefficients are ambiguous and not meaningful - When you add more data, you get will get a different answer (this is bad!)\n",
    "\n",
    "##### Adjusted $R^2$\n",
    "\n",
    "Accounts for reduction of degrees of freedom when using multiple predictor variables.\n",
    "\n",
    "$$R_a^2 = R^2 - (1-R^2)\\frac{k}{n-k-1}$$\n",
    "\n",
    "$$= 1 - \\frac{MSE}{MST}$$\n",
    "\n",
    "If the MSE is low, the adjusted R-squared is going to be high. The more observations you have, the less this adjustment matters.\n",
    "\n",
    "\n",
    "##### Variance Inflation Factor\n",
    "\n",
    "Variance Inflation Factor\n",
    "\n",
    "$$VIF  = \\frac{1}{1 - R^2}$$ \n",
    "\n",
    "where $R^2 $ from regression of predictor variables against other predictor variables. There is no clear \"cut-off\" that defines high VIF, but greater than 5 (and definitely greater than 10) is generally considered high.\n",
    "\n",
    "![images/arag_sat_table.png](images/arag_sat_table.png)\n",
    "\n",
    "##### Final Model\n",
    "\n",
    "$$\\Omega_{arag}^e = \\alpha_0 + \\alpha_1(O_2 - O_{2,r}) + \\alpha_2(T - T_r) \\times (O_2 - O_{2,r})$$\n",
    "\n",
    "* Less variables, avoids multiple collinearity\n",
    "* Includes interaction term\n",
    "* Reference values ($T_r$ and $O_{2,r}$) keep product from getting too big\n",
    "* Using variables with differing magnitudes can lead to problems like round-off errors\n",
    "* Standardizing variables (using z-scores) another common strategy\n",
    "\n",
    "![images/arag_sat_final.png](images/arag_sat_final.png)\n",
    "\n",
    "\n",
    "__Aragonite saturation state__\n",
    "\n",
    "_Red contours:_ from measured DIC and total alkalinaity\n",
    "\n",
    "_Blue contours:_ Multiple regression model\n",
    "\n",
    "__Application of the model to time series that do not have direct observations of the carbonate system parameters__\n",
    "\n",
    "![images/arag_sat_ts.png](images/arag_sat_ts.png)\n"
   ]
  },
  {
   "cell_type": "markdown",
   "metadata": {},
   "source": [
    "## Common statistical tests as linear models ##\n",
    "\n",
    "Many statistical tests can be though of as implementations of the generalized linear model. Thinking of tests as part of a class of linear models can be more intuitive than thinking about how each test works individually.\n",
    "\n",
    "### Resources\n",
    "\n",
    "This approach is taken in Chapter 28 of *Statistical Thinking for the 21st Century* on comparing means:\n",
    "* http://statsthinking21.org/comparing-means.html\n",
    "\n",
    "A blog post by Jonas Kristoffer Lindeløv explains this approach for a wide array of statistical tests. Implementation of the statistical functions and linear models, with interpretations, are provided in both R and Python.\n",
    "* Original post (using R): https://lindeloev.github.io/tests-as-linear/\n",
    "* Python port: https://eigenfoo.xyz/tests-as-linear/\n",
    "\n",
    "### Examples\n",
    "\n",
    "The following examples show different ways of comparing means, using data from the 2007 West Coast Ocean Acidification cruise. The examples use quality controlled data from 0-10 dbar (upper 10m of the water column).\n",
    "\n",
    "#### Comparing one sample mean to a single value\n",
    "\n",
    "In this example the goal is to test whether the mean aragonite saturation state is different from a value of 1, a critical threshold for the ability of organisms to form calcium carbonate shells.\n",
    "\n",
    "* $H_0$: $\\bar{\\Omega}_A =$ 1\n",
    "* $H_A$: $\\bar{\\Omega}_A \\neq$ 1 \n",
    "\n",
    "The first step is to create a subset of good data from the upper 10m."
   ]
  },
  {
   "cell_type": "code",
   "execution_count": 70,
   "metadata": {},
   "outputs": [],
   "source": [
    "iisurf07 = ((df07['CTDPRS'] <= 10) &\n",
    "      (df07['NITRAT_FLAG_W'] == 2) & (df07['PHSPHT_FLAG_W'] == 2)\n",
    "      & (df07['CTDOXY_FLAG_W'] == 2) & (df07['CTDSAL_FLAG_W'] == 2) \n",
    "        & (df07['ALKALI_FLAG_W'] == 2) & (df07['TCARBN_FLAG_W'] == 2))\n",
    "\n",
    "df07surf = df07[iisurf07]"
   ]
  },
  {
   "cell_type": "markdown",
   "metadata": {},
   "source": [
    "A box plot is one way of showing the distribution of $\\Omega_A$ values.\n",
    "* Orange line: median, or 50th percentile\n",
    "* Upper/lower limits on box: interquartile range, or 75th/25th percentiles\n",
    "* Whiskers: each have length 1.5*interquartile range (pyplot default)\n",
    "* Circles: extreme values\n",
    "* Green triangle: mean\n",
    "* Notches on box: 95% confidence intervals for median"
   ]
  },
  {
   "cell_type": "code",
   "execution_count": 71,
   "metadata": {},
   "outputs": [
    {
     "data": {
      "text/plain": [
       "Text(0.5, 1.0, '$\\\\Omega_A$ - upper 10m 2007')"
      ]
     },
     "execution_count": 71,
     "metadata": {},
     "output_type": "execute_result"
    },
    {
     "data": {
      "image/png": "[encoded data removed]",
      "text/plain": [
       "<Figure size 432x288 with 1 Axes>"
      ]
     },
     "metadata": {
      "needs_background": "light"
     },
     "output_type": "display_data"
    }
   ],
   "source": [
    "plt.figure()\n",
    "plt.boxplot(np.array(df07['OmegaA'][iisurf07]),labels=['2007'],showmeans=True,notch=True);\n",
    "plt.title('$\\Omega_A$ - upper 10m 2007')"
   ]
  },
  {
   "cell_type": "markdown",
   "metadata": {},
   "source": [
    "##### Method 1: one sample t-test"
   ]
  },
  {
   "cell_type": "markdown",
   "metadata": {},
   "source": [
    "A one-sample t-test can be used to test whether the null hypothesis can be rejected at the 95% confidence level ($\\alpha$ = 0.05). "
   ]
  },
  {
   "cell_type": "code",
   "execution_count": 72,
   "metadata": {},
   "outputs": [
    {
     "data": {
      "text/plain": [
       "Ttest_1sampResult(statistic=28.43230570935999, pvalue=2.5238884999372847e-59)"
      ]
     },
     "execution_count": 72,
     "metadata": {},
     "output_type": "execute_result"
    }
   ],
   "source": [
    "stats.ttest_1samp(np.array(df07surf['OmegaA']),popmean=1)"
   ]
  },
  {
   "cell_type": "markdown",
   "metadata": {},
   "source": [
    "##### Method 2: generalized linear model"
   ]
  },
  {
   "cell_type": "markdown",
   "metadata": {},
   "source": [
    "Alternatively, this test can be framed in terms of a general linear model\n",
    "\n",
    "$$ \\hat{y} = \\hat{a}_1 + \\hat{a}_2 x ,$$\n",
    "\n",
    "In this application, $y$ represents the $\\Omega_A$ data. There is only one group, so we can set $x = 0$ for all values, making the slope parameter $\\hat{a}_2$ irrelevant. The model then reduces to\n",
    "\n",
    "$$ \\hat{y} = \\hat{a}_1 ,$$\n",
    "\n",
    "or a model for the intercept parameter only. This equation can also be expressed as\n",
    "\n",
    "$$ \\hat{y} = \\hat{a}_1 \\times 1.$$\n",
    "\n",
    "This model for the data in terms of a constant intercept can be implemented with the `statsmodels` library:"
   ]
  },
  {
   "cell_type": "code",
   "execution_count": 73,
   "metadata": {},
   "outputs": [],
   "source": [
    "res = smf.ols(formula=\"OmegaA ~ 1\", data=df07surf).fit()"
   ]
  },
  {
   "cell_type": "markdown",
   "metadata": {},
   "source": [
    "The summary of the results shows that the intercept is 2.33, which is also the mean of the data. The 95% confidence intervals do not overlap with 1, which means that the null hypothesis can be rejected at $\\alpha$ = 0.05. This approach to hypothesis testing will give the same results as the one sample t-test for $N$ > 14.\n",
    "\n",
    "Notice that the test statistic $t$ is different from the one sample t-test. This is because `statsmodels` automatically tests whether parameters are different from *zero*, while in this case we are interested in whether the mean/intercept is different from *one*."
   ]
  },
  {
   "cell_type": "code",
   "execution_count": 74,
   "metadata": {},
   "outputs": [
    {
     "data": {
      "text/html": [
       "<table class=\"simpletable\">\n",
       "<caption>OLS Regression Results</caption>\n",
       "<tr>\n",
       "  <th>Dep. Variable:</th>         <td>OmegaA</td>      <th>  R-squared:         </th> <td>   0.000</td>\n",
       "</tr>\n",
       "<tr>\n",
       "  <th>Model:</th>                   <td>OLS</td>       <th>  Adj. R-squared:    </th> <td>   0.000</td>\n",
       "</tr>\n",
       "<tr>\n",
       "  <th>Method:</th>             <td>Least Squares</td>  <th>  F-statistic:       </th> <td>     nan</td>\n",
       "</tr>\n",
       "<tr>\n",
       "  <th>Date:</th>             <td>Tue, 10 Mar 2020</td> <th>  Prob (F-statistic):</th>  <td>   nan</td> \n",
       "</tr>\n",
       "<tr>\n",
       "  <th>Time:</th>                 <td>16:40:13</td>     <th>  Log-Likelihood:    </th> <td> -112.79</td>\n",
       "</tr>\n",
       "<tr>\n",
       "  <th>No. Observations:</th>      <td>   138</td>      <th>  AIC:               </th> <td>   227.6</td>\n",
       "</tr>\n",
       "<tr>\n",
       "  <th>Df Residuals:</th>          <td>   137</td>      <th>  BIC:               </th> <td>   230.5</td>\n",
       "</tr>\n",
       "<tr>\n",
       "  <th>Df Model:</th>              <td>     0</td>      <th>                     </th>     <td> </td>   \n",
       "</tr>\n",
       "<tr>\n",
       "  <th>Covariance Type:</th>      <td>nonrobust</td>    <th>                     </th>     <td> </td>   \n",
       "</tr>\n",
       "</table>\n",
       "<table class=\"simpletable\">\n",
       "<tr>\n",
       "      <td></td>         <th>coef</th>     <th>std err</th>      <th>t</th>      <th>P>|t|</th>  <th>[0.025</th>    <th>0.975]</th>  \n",
       "</tr>\n",
       "<tr>\n",
       "  <th>Intercept</th> <td>    2.3309</td> <td>    0.047</td> <td>   49.795</td> <td> 0.000</td> <td>    2.238</td> <td>    2.423</td>\n",
       "</tr>\n",
       "</table>\n",
       "<table class=\"simpletable\">\n",
       "<tr>\n",
       "  <th>Omnibus:</th>       <td> 7.528</td> <th>  Durbin-Watson:     </th> <td>   0.666</td>\n",
       "</tr>\n",
       "<tr>\n",
       "  <th>Prob(Omnibus):</th> <td> 0.023</td> <th>  Jarque-Bera (JB):  </th> <td>  12.146</td>\n",
       "</tr>\n",
       "<tr>\n",
       "  <th>Skew:</th>          <td> 0.195</td> <th>  Prob(JB):          </th> <td> 0.00230</td>\n",
       "</tr>\n",
       "<tr>\n",
       "  <th>Kurtosis:</th>      <td> 4.400</td> <th>  Cond. No.          </th> <td>    1.00</td>\n",
       "</tr>\n",
       "</table><br/><br/>Warnings:<br/>[1] Standard Errors assume that the covariance matrix of the errors is correctly specified."
      ],
      "text/plain": [
       "<class 'statsmodels.iolib.summary.Summary'>\n",
       "\"\"\"\n",
       "                            OLS Regression Results                            \n",
       "==============================================================================\n",
       "Dep. Variable:                 OmegaA   R-squared:                       0.000\n",
       "Model:                            OLS   Adj. R-squared:                  0.000\n",
       "Method:                 Least Squares   F-statistic:                       nan\n",
       "Date:                Tue, 10 Mar 2020   Prob (F-statistic):                nan\n",
       "Time:                        16:40:13   Log-Likelihood:                -112.79\n",
       "No. Observations:                 138   AIC:                             227.6\n",
       "Df Residuals:                     137   BIC:                             230.5\n",
       "Df Model:                           0                                         \n",
       "Covariance Type:            nonrobust                                         \n",
       "==============================================================================\n",
       "                 coef    std err          t      P>|t|      [0.025      0.975]\n",
       "------------------------------------------------------------------------------\n",
       "Intercept      2.3309      0.047     49.795      0.000       2.238       2.423\n",
       "==============================================================================\n",
       "Omnibus:                        7.528   Durbin-Watson:                   0.666\n",
       "Prob(Omnibus):                  0.023   Jarque-Bera (JB):               12.146\n",
       "Skew:                           0.195   Prob(JB):                      0.00230\n",
       "Kurtosis:                       4.400   Cond. No.                         1.00\n",
       "==============================================================================\n",
       "\n",
       "Warnings:\n",
       "[1] Standard Errors assume that the covariance matrix of the errors is correctly specified.\n",
       "\"\"\""
      ]
     },
     "execution_count": 74,
     "metadata": {},
     "output_type": "execute_result"
    }
   ],
   "source": [
    "res.summary()"
   ]
  },
  {
   "cell_type": "markdown",
   "metadata": {},
   "source": [
    "#### Comparing two sample means\n",
    "\n",
    "We can also apply the generalized linear model approach when comparing two means. In this case, we will examine whether there is a statistically significant difference between the mean of $\\Omega_A$ to the north and south of Cape Mendocino. At a latitude of 40.4$^o$N, Cape Mendocino represents a sharp transition point in many oceanographic processes and water masses.\n",
    "\n",
    "The first steps are to make two subsets based on latitude, and then visualize the results in a box plot."
   ]
  },
  {
   "cell_type": "code",
   "execution_count": 75,
   "metadata": {},
   "outputs": [],
   "source": [
    "# create a new boolean variable in the df07surf dataframe\n",
    "df07surf = df07[iisurf07]\n",
    "df07surf = df07surf.assign(is_northern = df07surf['LATITUDE'] > 40.4);\n",
    "\n",
    "iinorth = np.array(df07surf.is_northern == True)\n",
    "iisouth = np.array(df07surf.is_northern == False)"
   ]
  },
  {
   "cell_type": "code",
   "execution_count": 76,
   "metadata": {},
   "outputs": [
    {
     "data": {
      "text/plain": [
       "Text(0.5, 1.0, '$\\\\Omega_A$ - upper 10m 2007')"
      ]
     },
     "execution_count": 76,
     "metadata": {},
     "output_type": "execute_result"
    },
    {
     "data": {
      "image/png": "[encoded data removed]",
      "text/plain": [
       "<Figure size 432x288 with 1 Axes>"
      ]
     },
     "metadata": {
      "needs_background": "light"
     },
     "output_type": "display_data"
    }
   ],
   "source": [
    "plt.figure()\n",
    "plt.boxplot([df07surf['OmegaA'][iisouth],df07surf['OmegaA'][iinorth]],\n",
    "            labels=['0\\n(South)','1\\n(North)'],showmeans=True,notch=True)\n",
    "plt.title('$\\Omega_A$ - upper 10m 2007')"
   ]
  },
  {
   "cell_type": "markdown",
   "metadata": {},
   "source": [
    "##### Method 1: t-test"
   ]
  },
  {
   "cell_type": "markdown",
   "metadata": {},
   "source": [
    "There is a difference of 0.104 in the mean of $\\Omega_A$ between the two regions."
   ]
  },
  {
   "cell_type": "code",
   "execution_count": 77,
   "metadata": {},
   "outputs": [
    {
     "data": {
      "text/plain": [
       "0.10427563391405359"
      ]
     },
     "execution_count": 77,
     "metadata": {},
     "output_type": "execute_result"
    }
   ],
   "source": [
    "np.mean(df07surf['OmegaA'][iinorth]) - np.mean(df07surf['OmegaA'][iisouth])"
   ]
  },
  {
   "cell_type": "markdown",
   "metadata": {},
   "source": [
    "Is this difference statistically significant? A Student's t-test can be used to test whether the null hypothesis of no difference can be rejected at the 95% confidence level. "
   ]
  },
  {
   "cell_type": "code",
   "execution_count": 78,
   "metadata": {},
   "outputs": [
    {
     "data": {
      "text/plain": [
       "Ttest_indResult(statistic=1.0251798309255598, pvalue=0.30709834696023874)"
      ]
     },
     "execution_count": 78,
     "metadata": {},
     "output_type": "execute_result"
    }
   ],
   "source": [
    "stats.ttest_ind(df07surf['OmegaA'][iinorth],df07surf['OmegaA'][iisouth],equal_var=True)"
   ]
  },
  {
   "cell_type": "markdown",
   "metadata": {},
   "source": [
    "A Welch's t-test relaxes the assumption of equal variance."
   ]
  },
  {
   "cell_type": "code",
   "execution_count": 79,
   "metadata": {},
   "outputs": [
    {
     "data": {
      "text/plain": [
       "Ttest_indResult(statistic=0.9223324103895281, pvalue=0.35989367953568807)"
      ]
     },
     "execution_count": 79,
     "metadata": {},
     "output_type": "execute_result"
    }
   ],
   "source": [
    "stats.ttest_ind(df07surf['OmegaA'][iinorth],df07surf['OmegaA'][iisouth],equal_var=False)"
   ]
  },
  {
   "cell_type": "markdown",
   "metadata": {},
   "source": [
    "##### Method 2: generalized linear model\n",
    "\n",
    "This test can also be framed in terms of a general linear model\n",
    "\n",
    "$$ \\hat{y} = \\hat{a}_1 + \\hat{a}_2 x .$$\n",
    "\n",
    "Again, $\\hat{y}$ is a model for the aragonite saturation state data. In this case, we can think of the southern data points as having $x = 0$ and the northern data points as having $x = 1$.\n",
    "\n",
    "In this model, the intercept parameter $\\hat{a}_1$ is the mean of the points with $x = 0$, the southern points.\n",
    "\n",
    "The slope parameter $\\hat{a}_2$ is equal to the difference between the means of the two groups.\n",
    "\n",
    "$$ slope = \\frac{\\Delta\\bar{y}}{\\Delta x} = \\frac{\\Delta\\bar{y}}{1} = \\Delta\\bar{y}$$ "
   ]
  },
  {
   "cell_type": "code",
   "execution_count": 80,
   "metadata": {},
   "outputs": [],
   "source": [
    "res = smf.ols(formula=\"OmegaA ~ is_northern\", data=df07surf).fit()"
   ]
  },
  {
   "cell_type": "markdown",
   "metadata": {},
   "source": [
    "The results are summarized below. The slope parameter $\\hat{a}_2$ in our model is the coefficient for the `is_northern` variable. This is a Boolean variable that is equal to 0 (`False`) for southern points and 1 (`True`) for northern points. Notice that this coefficient is equal to 0.104, which the same as the difference between the two means.\n",
    "\n",
    "Also notice that the 95% confidence intervals (shown as the `[0.025 0.975]` interval) overlap 0 for this parameter. This means that the difference is not statistically significant at the 95% confidence ($\\alpha$ = 0.05) level. This summary also shows a t-statistic and p-value for this parameter, which are equivalent to the Student's t-test result shown above."
   ]
  },
  {
   "cell_type": "code",
   "execution_count": 81,
   "metadata": {},
   "outputs": [
    {
     "data": {
      "text/html": [
       "<table class=\"simpletable\">\n",
       "<caption>OLS Regression Results</caption>\n",
       "<tr>\n",
       "  <th>Dep. Variable:</th>         <td>OmegaA</td>      <th>  R-squared:         </th> <td>   0.008</td>\n",
       "</tr>\n",
       "<tr>\n",
       "  <th>Model:</th>                   <td>OLS</td>       <th>  Adj. R-squared:    </th> <td>   0.000</td>\n",
       "</tr>\n",
       "<tr>\n",
       "  <th>Method:</th>             <td>Least Squares</td>  <th>  F-statistic:       </th> <td>   1.051</td>\n",
       "</tr>\n",
       "<tr>\n",
       "  <th>Date:</th>             <td>Tue, 10 Mar 2020</td> <th>  Prob (F-statistic):</th>  <td> 0.307</td> \n",
       "</tr>\n",
       "<tr>\n",
       "  <th>Time:</th>                 <td>16:40:16</td>     <th>  Log-Likelihood:    </th> <td> -112.25</td>\n",
       "</tr>\n",
       "<tr>\n",
       "  <th>No. Observations:</th>      <td>   138</td>      <th>  AIC:               </th> <td>   228.5</td>\n",
       "</tr>\n",
       "<tr>\n",
       "  <th>Df Residuals:</th>          <td>   136</td>      <th>  BIC:               </th> <td>   234.4</td>\n",
       "</tr>\n",
       "<tr>\n",
       "  <th>Df Model:</th>              <td>     1</td>      <th>                     </th>     <td> </td>   \n",
       "</tr>\n",
       "<tr>\n",
       "  <th>Covariance Type:</th>      <td>nonrobust</td>    <th>                     </th>     <td> </td>   \n",
       "</tr>\n",
       "</table>\n",
       "<table class=\"simpletable\">\n",
       "<tr>\n",
       "           <td></td>              <th>coef</th>     <th>std err</th>      <th>t</th>      <th>P>|t|</th>  <th>[0.025</th>    <th>0.975]</th>  \n",
       "</tr>\n",
       "<tr>\n",
       "  <th>Intercept</th>           <td>    2.2992</td> <td>    0.056</td> <td>   40.974</td> <td> 0.000</td> <td>    2.188</td> <td>    2.410</td>\n",
       "</tr>\n",
       "<tr>\n",
       "  <th>is_northern[T.True]</th> <td>    0.1043</td> <td>    0.102</td> <td>    1.025</td> <td> 0.307</td> <td>   -0.097</td> <td>    0.305</td>\n",
       "</tr>\n",
       "</table>\n",
       "<table class=\"simpletable\">\n",
       "<tr>\n",
       "  <th>Omnibus:</th>       <td> 6.623</td> <th>  Durbin-Watson:     </th> <td>   0.673</td>\n",
       "</tr>\n",
       "<tr>\n",
       "  <th>Prob(Omnibus):</th> <td> 0.036</td> <th>  Jarque-Bera (JB):  </th> <td>  10.616</td>\n",
       "</tr>\n",
       "<tr>\n",
       "  <th>Skew:</th>          <td> 0.126</td> <th>  Prob(JB):          </th> <td> 0.00495</td>\n",
       "</tr>\n",
       "<tr>\n",
       "  <th>Kurtosis:</th>      <td> 4.335</td> <th>  Cond. No.          </th> <td>    2.42</td>\n",
       "</tr>\n",
       "</table><br/><br/>Warnings:<br/>[1] Standard Errors assume that the covariance matrix of the errors is correctly specified."
      ],
      "text/plain": [
       "<class 'statsmodels.iolib.summary.Summary'>\n",
       "\"\"\"\n",
       "                            OLS Regression Results                            \n",
       "==============================================================================\n",
       "Dep. Variable:                 OmegaA   R-squared:                       0.008\n",
       "Model:                            OLS   Adj. R-squared:                  0.000\n",
       "Method:                 Least Squares   F-statistic:                     1.051\n",
       "Date:                Tue, 10 Mar 2020   Prob (F-statistic):              0.307\n",
       "Time:                        16:40:16   Log-Likelihood:                -112.25\n",
       "No. Observations:                 138   AIC:                             228.5\n",
       "Df Residuals:                     136   BIC:                             234.4\n",
       "Df Model:                           1                                         \n",
       "Covariance Type:            nonrobust                                         \n",
       "=======================================================================================\n",
       "                          coef    std err          t      P>|t|      [0.025      0.975]\n",
       "---------------------------------------------------------------------------------------\n",
       "Intercept               2.2992      0.056     40.974      0.000       2.188       2.410\n",
       "is_northern[T.True]     0.1043      0.102      1.025      0.307      -0.097       0.305\n",
       "==============================================================================\n",
       "Omnibus:                        6.623   Durbin-Watson:                   0.673\n",
       "Prob(Omnibus):                  0.036   Jarque-Bera (JB):               10.616\n",
       "Skew:                           0.126   Prob(JB):                      0.00495\n",
       "Kurtosis:                       4.335   Cond. No.                         2.42\n",
       "==============================================================================\n",
       "\n",
       "Warnings:\n",
       "[1] Standard Errors assume that the covariance matrix of the errors is correctly specified.\n",
       "\"\"\""
      ]
     },
     "execution_count": 81,
     "metadata": {},
     "output_type": "execute_result"
    }
   ],
   "source": [
    "res.summary()"
   ]
  },
  {
   "cell_type": "markdown",
   "metadata": {},
   "source": [
    "#### Comparing two sample means (another example)\n",
    "\n",
    "The following shows the same calculations for temperature. In this case, the null hypothesis can be rejected at the 95% confidence level, and the 95% confidence intervals for the model slope do *not* overlap with zero."
   ]
  },
  {
   "cell_type": "code",
   "execution_count": 82,
   "metadata": {},
   "outputs": [
    {
     "data": {
      "text/plain": [
       "Text(0.5, 1.0, 'CTDTMP - upper 10m 2007')"
      ]
     },
     "execution_count": 82,
     "metadata": {},
     "output_type": "execute_result"
    },
    {
     "data": {
      "image/png": "[encoded data removed]",
      "text/plain": [
       "<Figure size 432x288 with 1 Axes>"
      ]
     },
     "metadata": {
      "needs_background": "light"
     },
     "output_type": "display_data"
    }
   ],
   "source": [
    "plt.figure()\n",
    "plt.boxplot([df07surf['CTDTMP'][iisouth],df07surf['CTDTMP'][iinorth]],\n",
    "            labels=['South','North'],showmeans=True,notch=True);\n",
    "plt.title('CTDTMP - upper 10m 2007')"
   ]
  },
  {
   "cell_type": "code",
   "execution_count": 83,
   "metadata": {},
   "outputs": [
    {
     "data": {
      "text/plain": [
       "Ttest_indResult(statistic=-7.3756898407987945, pvalue=1.4522086213500461e-11)"
      ]
     },
     "execution_count": 83,
     "metadata": {},
     "output_type": "execute_result"
    }
   ],
   "source": [
    "stats.ttest_ind(df07surf['CTDTMP'][iinorth],df07surf['CTDTMP'][iisouth],equal_var=True)"
   ]
  },
  {
   "cell_type": "code",
   "execution_count": 84,
   "metadata": {},
   "outputs": [
    {
     "data": {
      "text/plain": [
       "Ttest_indResult(statistic=-9.799130523807381, pvalue=1.7823812194777806e-17)"
      ]
     },
     "execution_count": 84,
     "metadata": {},
     "output_type": "execute_result"
    }
   ],
   "source": [
    "stats.ttest_ind(df07surf['CTDTMP'][iinorth],df07surf['CTDTMP'][iisouth],equal_var=False)"
   ]
  },
  {
   "cell_type": "code",
   "execution_count": 85,
   "metadata": {},
   "outputs": [
    {
     "data": {
      "text/html": [
       "<table class=\"simpletable\">\n",
       "<caption>OLS Regression Results</caption>\n",
       "<tr>\n",
       "  <th>Dep. Variable:</th>         <td>CTDTMP</td>      <th>  R-squared:         </th> <td>   0.286</td>\n",
       "</tr>\n",
       "<tr>\n",
       "  <th>Model:</th>                   <td>OLS</td>       <th>  Adj. R-squared:    </th> <td>   0.280</td>\n",
       "</tr>\n",
       "<tr>\n",
       "  <th>Method:</th>             <td>Least Squares</td>  <th>  F-statistic:       </th> <td>   54.40</td>\n",
       "</tr>\n",
       "<tr>\n",
       "  <th>Date:</th>             <td>Tue, 10 Mar 2020</td> <th>  Prob (F-statistic):</th> <td>1.45e-11</td>\n",
       "</tr>\n",
       "<tr>\n",
       "  <th>Time:</th>                 <td>16:40:18</td>     <th>  Log-Likelihood:    </th> <td> -310.63</td>\n",
       "</tr>\n",
       "<tr>\n",
       "  <th>No. Observations:</th>      <td>   138</td>      <th>  AIC:               </th> <td>   625.3</td>\n",
       "</tr>\n",
       "<tr>\n",
       "  <th>Df Residuals:</th>          <td>   136</td>      <th>  BIC:               </th> <td>   631.1</td>\n",
       "</tr>\n",
       "<tr>\n",
       "  <th>Df Model:</th>              <td>     1</td>      <th>                     </th>     <td> </td>   \n",
       "</tr>\n",
       "<tr>\n",
       "  <th>Covariance Type:</th>      <td>nonrobust</td>    <th>                     </th>     <td> </td>   \n",
       "</tr>\n",
       "</table>\n",
       "<table class=\"simpletable\">\n",
       "<tr>\n",
       "           <td></td>              <th>coef</th>     <th>std err</th>      <th>t</th>      <th>P>|t|</th>  <th>[0.025</th>    <th>0.975]</th>  \n",
       "</tr>\n",
       "<tr>\n",
       "  <th>Intercept</th>           <td>   13.6931</td> <td>    0.236</td> <td>   57.959</td> <td> 0.000</td> <td>   13.226</td> <td>   14.160</td>\n",
       "</tr>\n",
       "<tr>\n",
       "  <th>is_northern[T.True]</th> <td>   -3.1587</td> <td>    0.428</td> <td>   -7.376</td> <td> 0.000</td> <td>   -4.006</td> <td>   -2.312</td>\n",
       "</tr>\n",
       "</table>\n",
       "<table class=\"simpletable\">\n",
       "<tr>\n",
       "  <th>Omnibus:</th>       <td> 4.510</td> <th>  Durbin-Watson:     </th> <td>   0.191</td>\n",
       "</tr>\n",
       "<tr>\n",
       "  <th>Prob(Omnibus):</th> <td> 0.105</td> <th>  Jarque-Bera (JB):  </th> <td>   4.064</td>\n",
       "</tr>\n",
       "<tr>\n",
       "  <th>Skew:</th>          <td>-0.408</td> <th>  Prob(JB):          </th> <td>   0.131</td>\n",
       "</tr>\n",
       "<tr>\n",
       "  <th>Kurtosis:</th>      <td> 3.202</td> <th>  Cond. No.          </th> <td>    2.42</td>\n",
       "</tr>\n",
       "</table><br/><br/>Warnings:<br/>[1] Standard Errors assume that the covariance matrix of the errors is correctly specified."
      ],
      "text/plain": [
       "<class 'statsmodels.iolib.summary.Summary'>\n",
       "\"\"\"\n",
       "                            OLS Regression Results                            \n",
       "==============================================================================\n",
       "Dep. Variable:                 CTDTMP   R-squared:                       0.286\n",
       "Model:                            OLS   Adj. R-squared:                  0.280\n",
       "Method:                 Least Squares   F-statistic:                     54.40\n",
       "Date:                Tue, 10 Mar 2020   Prob (F-statistic):           1.45e-11\n",
       "Time:                        16:40:18   Log-Likelihood:                -310.63\n",
       "No. Observations:                 138   AIC:                             625.3\n",
       "Df Residuals:                     136   BIC:                             631.1\n",
       "Df Model:                           1                                         \n",
       "Covariance Type:            nonrobust                                         \n",
       "=======================================================================================\n",
       "                          coef    std err          t      P>|t|      [0.025      0.975]\n",
       "---------------------------------------------------------------------------------------\n",
       "Intercept              13.6931      0.236     57.959      0.000      13.226      14.160\n",
       "is_northern[T.True]    -3.1587      0.428     -7.376      0.000      -4.006      -2.312\n",
       "==============================================================================\n",
       "Omnibus:                        4.510   Durbin-Watson:                   0.191\n",
       "Prob(Omnibus):                  0.105   Jarque-Bera (JB):                4.064\n",
       "Skew:                          -0.408   Prob(JB):                        0.131\n",
       "Kurtosis:                       3.202   Cond. No.                         2.42\n",
       "==============================================================================\n",
       "\n",
       "Warnings:\n",
       "[1] Standard Errors assume that the covariance matrix of the errors is correctly specified.\n",
       "\"\"\""
      ]
     },
     "execution_count": 85,
     "metadata": {},
     "output_type": "execute_result"
    }
   ],
   "source": [
    "res = smf.ols(formula=\"CTDTMP ~ is_northern\", data=df07surf).fit()\n",
    "res.summary()"
   ]
  }
 ],
 "metadata": {
  "kernelspec": {
   "display_name": "Python 3",
   "language": "python",
   "name": "python3"
  },
  "language_info": {
   "codemirror_mode": {
    "name": "ipython",
    "version": 3
   },
   "file_extension": ".py",
   "mimetype": "text/x-python",
   "name": "python",
   "nbconvert_exporter": "python",
   "pygments_lexer": "ipython3",
   "version": "3.8.6"
  }
 },
 "nbformat": 4,
 "nbformat_minor": 4
}
