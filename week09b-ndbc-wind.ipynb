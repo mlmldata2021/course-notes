{
 "cells": [
  {
   "cell_type": "markdown",
   "metadata": {},
   "source": [
    "### Principal Component Analysis - NDBC wind data\n",
    "\n",
    "This notebook demonstrates principal component analysis with a two-dimensional data set: wind velocity from a meteorological buoy offshore of Monterey Bay. The buoy is maintained by the National Data Buoy Center (NDBC).\n",
    "\n",
    "The goal of this analysis is to rotate the wind data into an alongshore component (the wind blowing parallel to shore) and a cross-shore component (the wind blowing perpendicular to shore). This is useful because it is the alongshore component of wind stress that is responsible for coastal upwelling.\n",
    "\n",
    "![upwelling_cartoon](images/upwelling-800.jpg)\n",
    "\n",
    "#### Key concept\n",
    "\n",
    "The final question in this notebook will be:\n",
    "\n",
    "*Explain the relationship between the first principal component of the wind velocity and upwelling.*\n",
    "\n",
    "#### Data source\n",
    "\n",
    "The data can be accessed from two different locations (we will be using the second here):\n",
    "\n",
    "* [Main page for buoy 46042 with real time data](https://www.ndbc.noaa.gov/station_page.php?station=46042)\n",
    "* [NDBC Thredds server](https://dods.ndbc.noaa.gov/thredds/catalog.html)\n",
    "\n",
    "#### Load Python packages\n",
    "\n",
    "There is a new package here called [xarray](http://xarray.pydata.org/en/stable/index.html). This package was created to work a lot like Pandas, but for multi-dimensional arrays. \n",
    "\n",
    "![xarray_logo](images/dataset-diagram-logo.png)\n",
    "\n",
    "We will use xarray to load data in NetCDF format, which is a common data format used for large data sets in the earth sciences (CDF literally stands for common data format)."
   ]
  },
  {
   "cell_type": "code",
   "execution_count": 1,
   "metadata": {},
   "outputs": [],
   "source": [
    "import numpy as np\n",
    "import matplotlib.pyplot as plt\n",
    "import xarray as xr\n",
    "from scipy import stats"
   ]
  },
  {
   "cell_type": "markdown",
   "metadata": {},
   "source": [
    "#### Load wind data\n",
    "\n",
    "We can use xarray to access the data on NDBC's OpenDap server. This type of data server allows NetCDF data sets to be accessed online without ever having to download a file."
   ]
  },
  {
   "cell_type": "code",
   "execution_count": 2,
   "metadata": {},
   "outputs": [],
   "source": [
    "ncfile = 'https://dods.ndbc.noaa.gov/thredds/dodsC/data/stdmet/46042/46042h2019.nc'\n",
    "#ncfile = 'data/NDBC/46042h2019.nc'"
   ]
  },
  {
   "cell_type": "code",
   "execution_count": 3,
   "metadata": {},
   "outputs": [],
   "source": [
    "ds = xr.open_dataset(ncfile)"
   ]
  },
  {
   "cell_type": "markdown",
   "metadata": {},
   "source": [
    "##### Troubleshooting\n",
    "\n",
    "If you have trouble, try uncommenting the second line. This is the same data, in a file that is part of this Github repository.\n",
    "\n",
    "If you get an error about xarray or NetCDF4 try running this command in the terminal (Mac) or Anaconda Prompt (Windows):\n",
    "\n",
    "```\n",
    "conda install -c conda-forge xarray dask netCDF4\n",
    "```"
   ]
  },
  {
   "cell_type": "markdown",
   "metadata": {},
   "source": [
    "#### xarray basics\n",
    "\n",
    "The syntax used by xarray is similar to that of Pandas. Datasets are organized around coordinates. In this dataset, there are three coordinates:\n",
    "\n",
    "* time\n",
    "* latitude\n",
    "* longitude\n",
    "\n",
    "Since this buoy is a single point, the latitude and longitude coordinates have only one value each."
   ]
  },
  {
   "cell_type": "code",
   "execution_count": null,
   "metadata": {},
   "outputs": [],
   "source": [
    "# insert code here\n"
   ]
  },
  {
   "cell_type": "markdown",
   "metadata": {},
   "source": [
    "#### Labeled arrays\n",
    "\n",
    "One powerful feature of xarray is the ability to store metadata with each array. This can help you keep track of units."
   ]
  },
  {
   "cell_type": "code",
   "execution_count": null,
   "metadata": {},
   "outputs": [],
   "source": [
    "# insert code here\n"
   ]
  },
  {
   "cell_type": "markdown",
   "metadata": {},
   "source": [
    "#### Subset and convert to numpy arrays\n",
    "\n",
    "This code creates a subset of the finite data, excluding NaN values. The labeled arrays are also converted to more familiar Numpy arrays. In general, most operations that can be done with Numpy arrays can also be done with data arrays in xarray."
   ]
  },
  {
   "cell_type": "code",
   "execution_count": 153,
   "metadata": {},
   "outputs": [],
   "source": [
    "is_good = np.isfinite(ds['wind_dir'][:,0,0])\n",
    "time = np.array(ds['time'][is_good])\n",
    "wind_spd = np.array(ds['wind_spd'][is_good,0,0])\n",
    "wind_dir = np.array(ds['wind_dir'][is_good,0,0])"
   ]
  },
  {
   "cell_type": "markdown",
   "metadata": {},
   "source": [
    "#### Time series plots"
   ]
  },
  {
   "cell_type": "code",
   "execution_count": null,
   "metadata": {},
   "outputs": [],
   "source": [
    "# insert code here"
   ]
  },
  {
   "cell_type": "markdown",
   "metadata": {},
   "source": [
    "a. Make a plot for wind *direction*, including title and axis label."
   ]
  },
  {
   "cell_type": "code",
   "execution_count": null,
   "metadata": {},
   "outputs": [],
   "source": [
    "# insert code here"
   ]
  },
  {
   "cell_type": "markdown",
   "metadata": {},
   "source": [
    "### PCA step 1: create data arrays"
   ]
  },
  {
   "cell_type": "markdown",
   "metadata": {},
   "source": [
    "#### Calculating vector components\n",
    "\n",
    "NDBC provides data on wind speed and direction. Following typical meteorological convention, the direction describes the direction the wind is blowing from, clockwise from true north. "
   ]
  },
  {
   "cell_type": "code",
   "execution_count": null,
   "metadata": {},
   "outputs": [],
   "source": [
    "def wind_uv_from_spddir(wspd,wdir):\n",
    "    '''Convert wind speed and direction to eastward and northward components.\n",
    "    \n",
    "    Inputs\n",
    "    wspd - wind speed\n",
    "    wdir - wind direction (wind is blowing FROM this direction, \n",
    "                           clockwise from true north)\n",
    "    \n",
    "    Output:\n",
    "    u - eastward velocity component (TOWARDS the east)\n",
    "    v - northward velocity component (TOWARDS the north)\n",
    "    '''\n",
    "    \n",
    "    theta = np.array(wdir) # direction CW from true north\n",
    "    theta = theta*np.pi/180. # convert to radians\n",
    "    x = -np.sin(-theta)\n",
    "    y = np.cos(-theta)\n",
    "    theta_cart = np.arctan2(y,x) # direction CCW from east (Cartesian)\n",
    "    u = -wspd*np.cos(theta_cart) # eastward component\n",
    "    v = -wspd*np.sin(theta_cart) # northward component\n",
    "    \n",
    "    return u,v"
   ]
  },
  {
   "cell_type": "code",
   "execution_count": null,
   "metadata": {},
   "outputs": [],
   "source": [
    "u,v = wind_uv_from_spddir(wind_spd,wind_dir)"
   ]
  },
  {
   "cell_type": "markdown",
   "metadata": {},
   "source": [
    "### Plot the vector components"
   ]
  },
  {
   "cell_type": "markdown",
   "metadata": {},
   "source": [
    "b) Plot the time series of eastward velocity and northward velocity (time on the x-axis, both eastward and northward velocity on the y-axis)."
   ]
  },
  {
   "cell_type": "code",
   "execution_count": null,
   "metadata": {},
   "outputs": [],
   "source": [
    "plt.figure(figsize=(10,4))\n",
    "# insert code here"
   ]
  },
  {
   "cell_type": "markdown",
   "metadata": {},
   "source": [
    "b) Plot eastward velocity (x-axis) vs. northward velocity (y-axis). Each data point should be displayed as a dot."
   ]
  },
  {
   "cell_type": "code",
   "execution_count": null,
   "metadata": {},
   "outputs": [],
   "source": [
    "plt.figure()\n",
    "# insert code here\n",
    "\n",
    "\n",
    "# this line makes the scale equal on the x and y axes\n",
    "plt.gca().axis('equal')"
   ]
  },
  {
   "cell_type": "markdown",
   "metadata": {},
   "source": [
    "### PCA step 2: Create covariance matrix"
   ]
  },
  {
   "cell_type": "code",
   "execution_count": null,
   "metadata": {},
   "outputs": [],
   "source": [
    "# insert code here"
   ]
  },
  {
   "cell_type": "markdown",
   "metadata": {},
   "source": [
    "### PCA step 3: extract eigenvalues and eigenvectors\n",
    "\n",
    "The columns of the eigenvector matrix are the principal components. The principal components define the axes of the new rotated variables. The eigenvalues describe the variance of the each principal component."
   ]
  },
  {
   "cell_type": "code",
   "execution_count": null,
   "metadata": {},
   "outputs": [],
   "source": [
    "# insert code here"
   ]
  },
  {
   "cell_type": "markdown",
   "metadata": {},
   "source": [
    "Sort the eigenvalues and eigenvectors so that the first PC has the highest variance."
   ]
  },
  {
   "cell_type": "code",
   "execution_count": null,
   "metadata": {},
   "outputs": [],
   "source": [
    "# insert code here"
   ]
  },
  {
   "cell_type": "markdown",
   "metadata": {},
   "source": [
    "Compute the percentage of variance accounted for by each principal component."
   ]
  },
  {
   "cell_type": "code",
   "execution_count": null,
   "metadata": {},
   "outputs": [],
   "source": [
    "# insert code here"
   ]
  },
  {
   "cell_type": "markdown",
   "metadata": {},
   "source": [
    "Create $\\Lambda$ and $V$ matrices from eigenvalues and eigenvectors."
   ]
  },
  {
   "cell_type": "code",
   "execution_count": 205,
   "metadata": {},
   "outputs": [],
   "source": [
    "# insert code here"
   ]
  },
  {
   "cell_type": "markdown",
   "metadata": {},
   "source": [
    "#### Principal components\n",
    "\n",
    "The columns of the eigenvector matrix are the principal components. The principal components define the axes of the new rotated variables."
   ]
  },
  {
   "cell_type": "code",
   "execution_count": null,
   "metadata": {},
   "outputs": [],
   "source": [
    "# insert code here"
   ]
  },
  {
   "cell_type": "markdown",
   "metadata": {},
   "source": [
    "#### Factor loadings\n",
    "\n",
    "The factor loadings are the prinicipal components, scale by the standard deviations."
   ]
  },
  {
   "cell_type": "code",
   "execution_count": 219,
   "metadata": {},
   "outputs": [],
   "source": [
    "# insert code here"
   ]
  },
  {
   "cell_type": "markdown",
   "metadata": {},
   "source": [
    "#### Principal component \"scores\" (or \"amplitudes\")\n",
    "\n",
    "The principal component scores are the new, rotated data. The original $u$ and $v$ data are transformed into new variables $\\tau_1$ and $\\tau_2$. The orginal data are rotated so that $\\tau_1$ is maximized and the variance along and $\\tau_2$ is minimized."
   ]
  },
  {
   "cell_type": "code",
   "execution_count": null,
   "metadata": {},
   "outputs": [],
   "source": [
    "# insert code here"
   ]
  },
  {
   "cell_type": "markdown",
   "metadata": {},
   "source": [
    "c) Plot $\\tau_1$ and $\\tau_2$ as function of time."
   ]
  },
  {
   "cell_type": "code",
   "execution_count": null,
   "metadata": {},
   "outputs": [],
   "source": [
    "# insert code here"
   ]
  },
  {
   "cell_type": "markdown",
   "metadata": {},
   "source": [
    "Graphical display of variables involved in PCA"
   ]
  },
  {
   "cell_type": "code",
   "execution_count": 215,
   "metadata": {},
   "outputs": [
    {
     "data": {
      "text/plain": [
       "(-22.757045736379567,\n",
       " 17.15554789169318,\n",
       " -13.431336548465188,\n",
       " 14.884003870405865)"
      ]
     },
     "execution_count": 215,
     "metadata": {},
     "output_type": "execute_result"
    },
    {
     "data": {
      "image/png": "[encoded data removed]",
      "text/plain": [
       "<Figure size 432x288 with 1 Axes>"
      ]
     },
     "metadata": {
      "needs_background": "light"
     },
     "output_type": "display_data"
    },
    {
     "data": {
      "image/png": "[encoded data removed]",
      "text/plain": [
       "<Figure size 432x288 with 1 Axes>"
      ]
     },
     "metadata": {
      "needs_background": "light"
     },
     "output_type": "display_data"
    }
   ],
   "source": [
    "plt.figure()\n",
    "plt.plot(u,v,'.')\n",
    "plt.plot([0,A[0,0]],[0,A[1,0]])\n",
    "plt.plot([0,A[0,1]],[0,A[1,1]])\n",
    "plt.plot([0,PC1[0]],[0,PC1[1]],'k-')\n",
    "plt.plot([0,PC2[0]],[0,PC2[1]],'r-')\n",
    "plt.gca().axis('equal')\n",
    "plt.xlabel('u [m/s]')\n",
    "plt.ylabel('v [m/s]')\n",
    "plt.legend(['data','PC1 factor loading ($A_1$)','PC2 factor loading ($A_2$)','PC1','PC2'])\n",
    "\n",
    "plt.figure()\n",
    "plt.plot(tau1,tau2,'.')\n",
    "plt.plot([0,np.std(tau1)],[0,0])\n",
    "plt.plot([0,0],[0,np.std(tau2)])\n",
    "plt.plot([0,0],[0,1],'r-')\n",
    "plt.plot([0,1],[0,0],'k-')\n",
    "plt.legend(['rotated data','PC1 factor loading ($A_1$)','PC2 factor loading ($A_2$)','PC1','PC2'])\n",
    "plt.xlabel('PC1 [m/s]')\n",
    "plt.ylabel('PC2 [m/s]')\n",
    "plt.gca().axis('equal')"
   ]
  },
  {
   "cell_type": "markdown",
   "metadata": {},
   "source": [
    "#### Final exercise\n",
    "\n",
    "d) Explain the relationship between the first principal component and upwelling."
   ]
  },
  {
   "cell_type": "markdown",
   "metadata": {},
   "source": [
    "*Insert text here* "
   ]
  }
 ],
 "metadata": {
  "kernelspec": {
   "display_name": "Python 3",
   "language": "python",
   "name": "python3"
  },
  "language_info": {
   "codemirror_mode": {
    "name": "ipython",
    "version": 3
   },
   "file_extension": ".py",
   "mimetype": "text/x-python",
   "name": "python",
   "nbconvert_exporter": "python",
   "pygments_lexer": "ipython3",
   "version": "3.8.6"
  }
 },
 "nbformat": 4,
 "nbformat_minor": 4
}
