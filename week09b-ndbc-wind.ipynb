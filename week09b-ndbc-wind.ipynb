{
 "cells": [
  {
   "cell_type": "markdown",
   "metadata": {
    "id": "F9719DfKHAlm"
   },
   "source": [
    "## NDBC data - analysis of wind vector time series\n",
    "\n",
    "This notebook demonstrates common time series analysis techniques with a two-dimensional data set: wind velocity from a meteorological buoy offshore of Monterey Bay. The buoy is maintained by the National Data Buoy Center (NDBC).\n",
    "\n",
    "The goal of this analysis is to rotate the wind data into an alongshore component (the wind blowing parallel to shore) and a cross-shore component (the wind blowing perpendicular to shore). This is useful because it is the alongshore component of wind stress that is responsible for coastal upwelling.\n",
    "\n",
    "Functions are provided for analysis routines that are useful for a wide range of data sets. They are based on functions in a larger package located at https://github.com/physoce/physoce-py.\n",
    "\n",
    "The example here is for wind data, but the same techniques can also be applied to ocean currents or any type of vector time series. As you go through the tutorial, try the exercises to check your understanding.\n",
    "\n",
    "![upwelling_cartoon](https://oceanexplorer.noaa.gov/facts/media/upwelling-800.jpg)\n",
    "\n",
    "#### Outline\n",
    "* [Load data and packages](#load-data-and-packages)\n",
    "* [Working with vector data](#working-with-vector-data)\n",
    "* [Calculating wind stress](#calculating-wind-stress)\n",
    "* [Coordinate system rotation](#coordinate-system-rotation)\n",
    "* [Conclusion](#conclusion)\n",
    "\n",
    "\n",
    "\n"
   ]
  },
  {
   "cell_type": "markdown",
   "metadata": {
    "id": "0GJWNrHXsccn"
   },
   "source": [
    "### Load data and packages\n",
    "\n",
    "#### Data source\n",
    "\n",
    "The data from Monterey NDBC buoy 46042 can be accessed from two different locations (we will be using the second here):\n",
    "\n",
    "* [Main page for buoy 46042 with real time data](https://www.ndbc.noaa.gov/station_page.php?station=46042)\n",
    "* [NDBC Thredds server](https://dods.ndbc.noaa.gov/thredds/catalog.html)\n",
    "\n",
    "![Buoy map](images/Monterey_Bay.gif)\n",
    "\n"
   ]
  },
  {
   "cell_type": "markdown",
   "metadata": {
    "id": "Ar7j_lg0IgHt"
   },
   "source": [
    "#### Install Python packages\n",
    "\n",
    "Some packages may need to be installed."
   ]
  },
  {
   "cell_type": "code",
   "execution_count": 4,
   "metadata": {
    "id": "Sx9QPOrUIQ70"
   },
   "outputs": [
    {
     "name": "stdout",
     "output_type": "stream",
     "text": [
      "Requirement already satisfied: netcdf4 in /Users/tomconnolly/programs/miniconda3/envs/ms263-21/lib/python3.8/site-packages (1.5.5.1)\n",
      "Requirement already satisfied: cftime in /Users/tomconnolly/programs/miniconda3/envs/ms263-21/lib/python3.8/site-packages (from netcdf4) (1.3.0)\n",
      "Requirement already satisfied: numpy>=1.9 in /Users/tomconnolly/programs/miniconda3/envs/ms263-21/lib/python3.8/site-packages (from netcdf4) (1.19.5)\n",
      "Requirement already satisfied: airsea in /Users/tomconnolly/programs/miniconda3/envs/ms263-21/lib/python3.8/site-packages (0.0.1)\n",
      "Requirement already satisfied: numpy in /Users/tomconnolly/programs/miniconda3/envs/ms263-21/lib/python3.8/site-packages (from airsea) (1.19.5)\n"
     ]
    }
   ],
   "source": [
    "!pip install netcdf4\n",
    "!pip install airsea"
   ]
  },
  {
   "cell_type": "markdown",
   "metadata": {
    "id": "eAXG03woHyF6"
   },
   "source": [
    "#### Load Python packages\n",
    "\n",
    "This notebook uses the [xarray](http://xarray.pydata.org/en/stable/index.html) package, which is useful for working with multi-dimensional arrays. We will use xarray to load data in NetCDF format, which is a common data format used for large data sets in the earth sciences (CDF literally stands for \"common data format\").\n",
    "\n",
    "This notebook also uses functions specifically developed for oceanographic time series analyis in the [physoce](https://github.com/physoce/physoce-py) package."
   ]
  },
  {
   "cell_type": "code",
   "execution_count": 5,
   "metadata": {
    "id": "sUxqTOK2HAlo"
   },
   "outputs": [],
   "source": [
    "import numpy as np\n",
    "import matplotlib.pyplot as plt\n",
    "import xarray as xr\n",
    "from airsea.windstress import stress"
   ]
  },
  {
   "cell_type": "markdown",
   "metadata": {
    "id": "E_lN39uaHAly"
   },
   "source": [
    "#### Load wind data\n",
    "\n",
    "We can use xarray to access the data on NDBC's OpenDap server. This type of data server allows NetCDF data sets to be accessed online without ever having to download a file."
   ]
  },
  {
   "cell_type": "code",
   "execution_count": 69,
   "metadata": {
    "id": "xcxLnGx_HAl2"
   },
   "outputs": [],
   "source": [
    "#ncfile = 'https://dods.ndbc.noaa.gov/thredds/dodsC/data/stdmet/46042/46042h2020.nc'\n",
    "ncfile = 'data/NDBC/46042h2019.nc'"
   ]
  },
  {
   "cell_type": "code",
   "execution_count": 41,
   "metadata": {
    "id": "-zoZyYNtHAl_"
   },
   "outputs": [],
   "source": [
    "ds = xr.open_dataset(ncfile)"
   ]
  },
  {
   "cell_type": "markdown",
   "metadata": {
    "id": "4v38WmlUHAmG"
   },
   "source": [
    "#### Data structure\n",
    "\n",
    "NetCDF files and xarray datasets are organized around coordinates. In this dataset, there are three coordinates:\n",
    "\n",
    "* time\n",
    "* latitude\n",
    "* longitude\n",
    "\n",
    "Since this buoy is a single point, the latitude and longitude coordinates have only one value each."
   ]
  },
  {
   "cell_type": "code",
   "execution_count": 42,
   "metadata": {
    "id": "GsVNmEoqHAmH"
   },
   "outputs": [
    {
     "data": {
      "text/html": [
       "<div><svg style=\"position: absolute; width: 0; height: 0; overflow: hidden\">\n",
       "<defs>\n",
       "<symbol id=\"icon-database\" viewBox=\"0 0 32 32\">\n",
       "<path d=\"M16 0c-8.837 0-16 2.239-16 5v4c0 2.761 7.163 5 16 5s16-2.239 16-5v-4c0-2.761-7.163-5-16-5z\"></path>\n",
       "<path d=\"M16 17c-8.837 0-16-2.239-16-5v6c0 2.761 7.163 5 16 5s16-2.239 16-5v-6c0 2.761-7.163 5-16 5z\"></path>\n",
       "<path d=\"M16 26c-8.837 0-16-2.239-16-5v6c0 2.761 7.163 5 16 5s16-2.239 16-5v-6c0 2.761-7.163 5-16 5z\"></path>\n",
       "</symbol>\n",
       "<symbol id=\"icon-file-text2\" viewBox=\"0 0 32 32\">\n",
       "<path d=\"M28.681 7.159c-0.694-0.947-1.662-2.053-2.724-3.116s-2.169-2.030-3.116-2.724c-1.612-1.182-2.393-1.319-2.841-1.319h-15.5c-1.378 0-2.5 1.121-2.5 2.5v27c0 1.378 1.122 2.5 2.5 2.5h23c1.378 0 2.5-1.122 2.5-2.5v-19.5c0-0.448-0.137-1.23-1.319-2.841zM24.543 5.457c0.959 0.959 1.712 1.825 2.268 2.543h-4.811v-4.811c0.718 0.556 1.584 1.309 2.543 2.268zM28 29.5c0 0.271-0.229 0.5-0.5 0.5h-23c-0.271 0-0.5-0.229-0.5-0.5v-27c0-0.271 0.229-0.5 0.5-0.5 0 0 15.499-0 15.5 0v7c0 0.552 0.448 1 1 1h7v19.5z\"></path>\n",
       "<path d=\"M23 26h-14c-0.552 0-1-0.448-1-1s0.448-1 1-1h14c0.552 0 1 0.448 1 1s-0.448 1-1 1z\"></path>\n",
       "<path d=\"M23 22h-14c-0.552 0-1-0.448-1-1s0.448-1 1-1h14c0.552 0 1 0.448 1 1s-0.448 1-1 1z\"></path>\n",
       "<path d=\"M23 18h-14c-0.552 0-1-0.448-1-1s0.448-1 1-1h14c0.552 0 1 0.448 1 1s-0.448 1-1 1z\"></path>\n",
       "</symbol>\n",
       "</defs>\n",
       "</svg>\n",
       "<style>/* CSS stylesheet for displaying xarray objects in jupyterlab.\n",
       " *\n",
       " */\n",
       "\n",
       ":root {\n",
       "  --xr-font-color0: var(--jp-content-font-color0, rgba(0, 0, 0, 1));\n",
       "  --xr-font-color2: var(--jp-content-font-color2, rgba(0, 0, 0, 0.54));\n",
       "  --xr-font-color3: var(--jp-content-font-color3, rgba(0, 0, 0, 0.38));\n",
       "  --xr-border-color: var(--jp-border-color2, #e0e0e0);\n",
       "  --xr-disabled-color: var(--jp-layout-color3, #bdbdbd);\n",
       "  --xr-background-color: var(--jp-layout-color0, white);\n",
       "  --xr-background-color-row-even: var(--jp-layout-color1, white);\n",
       "  --xr-background-color-row-odd: var(--jp-layout-color2, #eeeeee);\n",
       "}\n",
       "\n",
       "html[theme=dark],\n",
       "body.vscode-dark {\n",
       "  --xr-font-color0: rgba(255, 255, 255, 1);\n",
       "  --xr-font-color2: rgba(255, 255, 255, 0.54);\n",
       "  --xr-font-color3: rgba(255, 255, 255, 0.38);\n",
       "  --xr-border-color: #1F1F1F;\n",
       "  --xr-disabled-color: #515151;\n",
       "  --xr-background-color: #111111;\n",
       "  --xr-background-color-row-even: #111111;\n",
       "  --xr-background-color-row-odd: #313131;\n",
       "}\n",
       "\n",
       ".xr-wrap {\n",
       "  display: block;\n",
       "  min-width: 300px;\n",
       "  max-width: 700px;\n",
       "}\n",
       "\n",
       ".xr-text-repr-fallback {\n",
       "  /* fallback to plain text repr when CSS is not injected (untrusted notebook) */\n",
       "  display: none;\n",
       "}\n",
       "\n",
       ".xr-header {\n",
       "  padding-top: 6px;\n",
       "  padding-bottom: 6px;\n",
       "  margin-bottom: 4px;\n",
       "  border-bottom: solid 1px var(--xr-border-color);\n",
       "}\n",
       "\n",
       ".xr-header > div,\n",
       ".xr-header > ul {\n",
       "  display: inline;\n",
       "  margin-top: 0;\n",
       "  margin-bottom: 0;\n",
       "}\n",
       "\n",
       ".xr-obj-type,\n",
       ".xr-array-name {\n",
       "  margin-left: 2px;\n",
       "  margin-right: 10px;\n",
       "}\n",
       "\n",
       ".xr-obj-type {\n",
       "  color: var(--xr-font-color2);\n",
       "}\n",
       "\n",
       ".xr-sections {\n",
       "  padding-left: 0 !important;\n",
       "  display: grid;\n",
       "  grid-template-columns: 150px auto auto 1fr 20px 20px;\n",
       "}\n",
       "\n",
       ".xr-section-item {\n",
       "  display: contents;\n",
       "}\n",
       "\n",
       ".xr-section-item input {\n",
       "  display: none;\n",
       "}\n",
       "\n",
       ".xr-section-item input + label {\n",
       "  color: var(--xr-disabled-color);\n",
       "}\n",
       "\n",
       ".xr-section-item input:enabled + label {\n",
       "  cursor: pointer;\n",
       "  color: var(--xr-font-color2);\n",
       "}\n",
       "\n",
       ".xr-section-item input:enabled + label:hover {\n",
       "  color: var(--xr-font-color0);\n",
       "}\n",
       "\n",
       ".xr-section-summary {\n",
       "  grid-column: 1;\n",
       "  color: var(--xr-font-color2);\n",
       "  font-weight: 500;\n",
       "}\n",
       "\n",
       ".xr-section-summary > span {\n",
       "  display: inline-block;\n",
       "  padding-left: 0.5em;\n",
       "}\n",
       "\n",
       ".xr-section-summary-in:disabled + label {\n",
       "  color: var(--xr-font-color2);\n",
       "}\n",
       "\n",
       ".xr-section-summary-in + label:before {\n",
       "  display: inline-block;\n",
       "  content: '►';\n",
       "  font-size: 11px;\n",
       "  width: 15px;\n",
       "  text-align: center;\n",
       "}\n",
       "\n",
       ".xr-section-summary-in:disabled + label:before {\n",
       "  color: var(--xr-disabled-color);\n",
       "}\n",
       "\n",
       ".xr-section-summary-in:checked + label:before {\n",
       "  content: '▼';\n",
       "}\n",
       "\n",
       ".xr-section-summary-in:checked + label > span {\n",
       "  display: none;\n",
       "}\n",
       "\n",
       ".xr-section-summary,\n",
       ".xr-section-inline-details {\n",
       "  padding-top: 4px;\n",
       "  padding-bottom: 4px;\n",
       "}\n",
       "\n",
       ".xr-section-inline-details {\n",
       "  grid-column: 2 / -1;\n",
       "}\n",
       "\n",
       ".xr-section-details {\n",
       "  display: none;\n",
       "  grid-column: 1 / -1;\n",
       "  margin-bottom: 5px;\n",
       "}\n",
       "\n",
       ".xr-section-summary-in:checked ~ .xr-section-details {\n",
       "  display: contents;\n",
       "}\n",
       "\n",
       ".xr-array-wrap {\n",
       "  grid-column: 1 / -1;\n",
       "  display: grid;\n",
       "  grid-template-columns: 20px auto;\n",
       "}\n",
       "\n",
       ".xr-array-wrap > label {\n",
       "  grid-column: 1;\n",
       "  vertical-align: top;\n",
       "}\n",
       "\n",
       ".xr-preview {\n",
       "  color: var(--xr-font-color3);\n",
       "}\n",
       "\n",
       ".xr-array-preview,\n",
       ".xr-array-data {\n",
       "  padding: 0 5px !important;\n",
       "  grid-column: 2;\n",
       "}\n",
       "\n",
       ".xr-array-data,\n",
       ".xr-array-in:checked ~ .xr-array-preview {\n",
       "  display: none;\n",
       "}\n",
       "\n",
       ".xr-array-in:checked ~ .xr-array-data,\n",
       ".xr-array-preview {\n",
       "  display: inline-block;\n",
       "}\n",
       "\n",
       ".xr-dim-list {\n",
       "  display: inline-block !important;\n",
       "  list-style: none;\n",
       "  padding: 0 !important;\n",
       "  margin: 0;\n",
       "}\n",
       "\n",
       ".xr-dim-list li {\n",
       "  display: inline-block;\n",
       "  padding: 0;\n",
       "  margin: 0;\n",
       "}\n",
       "\n",
       ".xr-dim-list:before {\n",
       "  content: '(';\n",
       "}\n",
       "\n",
       ".xr-dim-list:after {\n",
       "  content: ')';\n",
       "}\n",
       "\n",
       ".xr-dim-list li:not(:last-child):after {\n",
       "  content: ',';\n",
       "  padding-right: 5px;\n",
       "}\n",
       "\n",
       ".xr-has-index {\n",
       "  font-weight: bold;\n",
       "}\n",
       "\n",
       ".xr-var-list,\n",
       ".xr-var-item {\n",
       "  display: contents;\n",
       "}\n",
       "\n",
       ".xr-var-item > div,\n",
       ".xr-var-item label,\n",
       ".xr-var-item > .xr-var-name span {\n",
       "  background-color: var(--xr-background-color-row-even);\n",
       "  margin-bottom: 0;\n",
       "}\n",
       "\n",
       ".xr-var-item > .xr-var-name:hover span {\n",
       "  padding-right: 5px;\n",
       "}\n",
       "\n",
       ".xr-var-list > li:nth-child(odd) > div,\n",
       ".xr-var-list > li:nth-child(odd) > label,\n",
       ".xr-var-list > li:nth-child(odd) > .xr-var-name span {\n",
       "  background-color: var(--xr-background-color-row-odd);\n",
       "}\n",
       "\n",
       ".xr-var-name {\n",
       "  grid-column: 1;\n",
       "}\n",
       "\n",
       ".xr-var-dims {\n",
       "  grid-column: 2;\n",
       "}\n",
       "\n",
       ".xr-var-dtype {\n",
       "  grid-column: 3;\n",
       "  text-align: right;\n",
       "  color: var(--xr-font-color2);\n",
       "}\n",
       "\n",
       ".xr-var-preview {\n",
       "  grid-column: 4;\n",
       "}\n",
       "\n",
       ".xr-var-name,\n",
       ".xr-var-dims,\n",
       ".xr-var-dtype,\n",
       ".xr-preview,\n",
       ".xr-attrs dt {\n",
       "  white-space: nowrap;\n",
       "  overflow: hidden;\n",
       "  text-overflow: ellipsis;\n",
       "  padding-right: 10px;\n",
       "}\n",
       "\n",
       ".xr-var-name:hover,\n",
       ".xr-var-dims:hover,\n",
       ".xr-var-dtype:hover,\n",
       ".xr-attrs dt:hover {\n",
       "  overflow: visible;\n",
       "  width: auto;\n",
       "  z-index: 1;\n",
       "}\n",
       "\n",
       ".xr-var-attrs,\n",
       ".xr-var-data {\n",
       "  display: none;\n",
       "  background-color: var(--xr-background-color) !important;\n",
       "  padding-bottom: 5px !important;\n",
       "}\n",
       "\n",
       ".xr-var-attrs-in:checked ~ .xr-var-attrs,\n",
       ".xr-var-data-in:checked ~ .xr-var-data {\n",
       "  display: block;\n",
       "}\n",
       "\n",
       ".xr-var-data > table {\n",
       "  float: right;\n",
       "}\n",
       "\n",
       ".xr-var-name span,\n",
       ".xr-var-data,\n",
       ".xr-attrs {\n",
       "  padding-left: 25px !important;\n",
       "}\n",
       "\n",
       ".xr-attrs,\n",
       ".xr-var-attrs,\n",
       ".xr-var-data {\n",
       "  grid-column: 1 / -1;\n",
       "}\n",
       "\n",
       "dl.xr-attrs {\n",
       "  padding: 0;\n",
       "  margin: 0;\n",
       "  display: grid;\n",
       "  grid-template-columns: 125px auto;\n",
       "}\n",
       "\n",
       ".xr-attrs dt,\n",
       ".xr-attrs dd {\n",
       "  padding: 0;\n",
       "  margin: 0;\n",
       "  float: left;\n",
       "  padding-right: 10px;\n",
       "  width: auto;\n",
       "}\n",
       "\n",
       ".xr-attrs dt {\n",
       "  font-weight: normal;\n",
       "  grid-column: 1;\n",
       "}\n",
       "\n",
       ".xr-attrs dt:hover span {\n",
       "  display: inline-block;\n",
       "  background: var(--xr-background-color);\n",
       "  padding-right: 10px;\n",
       "}\n",
       "\n",
       ".xr-attrs dd {\n",
       "  grid-column: 2;\n",
       "  white-space: pre-wrap;\n",
       "  word-break: break-all;\n",
       "}\n",
       "\n",
       ".xr-icon-database,\n",
       ".xr-icon-file-text2 {\n",
       "  display: inline-block;\n",
       "  vertical-align: middle;\n",
       "  width: 1em;\n",
       "  height: 1.5em !important;\n",
       "  stroke-width: 0;\n",
       "  stroke: currentColor;\n",
       "  fill: currentColor;\n",
       "}\n",
       "</style><pre class='xr-text-repr-fallback'>&lt;xarray.Dataset&gt;\n",
       "Dimensions:                  (latitude: 1, longitude: 1, time: 52260)\n",
       "Coordinates:\n",
       "  * time                     (time) datetime64[ns] 2020-01-01 ... 2020-12-31T...\n",
       "  * latitude                 (latitude) float32 36.78\n",
       "  * longitude                (longitude) float32 -122.4\n",
       "Data variables:\n",
       "    wind_dir                 (time, latitude, longitude) float64 310.0 ... 330.0\n",
       "    wind_spd                 (time, latitude, longitude) float32 4.6 ... 12.3\n",
       "    gust                     (time, latitude, longitude) float32 6.5 ... 15.4\n",
       "    wave_height              (time, latitude, longitude) float32 nan nan ... nan\n",
       "    dominant_wpd             (time, latitude, longitude) timedelta64[ns] NaT ...\n",
       "    average_wpd              (time, latitude, longitude) timedelta64[ns] NaT ...\n",
       "    mean_wave_dir            (time, latitude, longitude) float64 nan nan ... nan\n",
       "    air_pressure             (time, latitude, longitude) float32 1.02e+03 ......\n",
       "    air_temperature          (time, latitude, longitude) float32 13.6 ... 11.9\n",
       "    sea_surface_temperature  (time, latitude, longitude) float32 13.7 ... 12.4\n",
       "    dewpt_temperature        (time, latitude, longitude) float32 11.8 ... 9.2\n",
       "    visibility               (time, latitude, longitude) float32 nan nan ... nan\n",
       "    water_level              (time, latitude, longitude) float32 nan nan ... nan\n",
       "Attributes:\n",
       "    institution:                     NOAA National Data Buoy Center and Parti...\n",
       "    url:                             http://dods.ndbc.noaa.gov\n",
       "    quality:                         Automated QC checks with manual editing ...\n",
       "    conventions:                     COARDS\n",
       "    station:                         46042\n",
       "    comment:                         MONTEREY - 27NM WNW of Monterey, CA\n",
       "    location:                        36.785 N 122.398 W \n",
       "    DODS_EXTRA.Unlimited_Dimension:  time</pre><div class='xr-wrap' hidden><div class='xr-header'><div class='xr-obj-type'>xarray.Dataset</div></div><ul class='xr-sections'><li class='xr-section-item'><input id='section-a1f6f745-a02e-48db-a787-d55a2811d43d' class='xr-section-summary-in' type='checkbox' disabled ><label for='section-a1f6f745-a02e-48db-a787-d55a2811d43d' class='xr-section-summary'  title='Expand/collapse section'>Dimensions:</label><div class='xr-section-inline-details'><ul class='xr-dim-list'><li><span class='xr-has-index'>latitude</span>: 1</li><li><span class='xr-has-index'>longitude</span>: 1</li><li><span class='xr-has-index'>time</span>: 52260</li></ul></div><div class='xr-section-details'></div></li><li class='xr-section-item'><input id='section-826abf21-eae4-4486-b7fe-505ae9cfd1e0' class='xr-section-summary-in' type='checkbox'  checked><label for='section-826abf21-eae4-4486-b7fe-505ae9cfd1e0' class='xr-section-summary' >Coordinates: <span>(3)</span></label><div class='xr-section-inline-details'></div><div class='xr-section-details'><ul class='xr-var-list'><li class='xr-var-item'><div class='xr-var-name'><span class='xr-has-index'>time</span></div><div class='xr-var-dims'>(time)</div><div class='xr-var-dtype'>datetime64[ns]</div><div class='xr-var-preview xr-preview'>2020-01-01 ... 2020-12-31T23:50:00</div><input id='attrs-2429f17e-4d9b-474e-b3c0-1ad711ea28e5' class='xr-var-attrs-in' type='checkbox' ><label for='attrs-2429f17e-4d9b-474e-b3c0-1ad711ea28e5' title='Show/Hide attributes'><svg class='icon xr-icon-file-text2'><use xlink:href='#icon-file-text2'></use></svg></label><input id='data-b9708aab-214b-45dd-b7e6-ab90f692b4dc' class='xr-var-data-in' type='checkbox'><label for='data-b9708aab-214b-45dd-b7e6-ab90f692b4dc' title='Show/Hide data repr'><svg class='icon xr-icon-database'><use xlink:href='#icon-database'></use></svg></label><div class='xr-var-attrs'><dl class='xr-attrs'><dt><span>long_name :</span></dt><dd>Epoch Time</dd><dt><span>short_name :</span></dt><dd>time</dd><dt><span>standard_name :</span></dt><dd>time</dd></dl></div><div class='xr-var-data'><pre>array([&#x27;2020-01-01T00:00:00.000000000&#x27;, &#x27;2020-01-01T00:10:00.000000000&#x27;,\n",
       "       &#x27;2020-01-01T00:20:00.000000000&#x27;, ..., &#x27;2020-12-31T23:30:00.000000000&#x27;,\n",
       "       &#x27;2020-12-31T23:40:00.000000000&#x27;, &#x27;2020-12-31T23:50:00.000000000&#x27;],\n",
       "      dtype=&#x27;datetime64[ns]&#x27;)</pre></div></li><li class='xr-var-item'><div class='xr-var-name'><span class='xr-has-index'>latitude</span></div><div class='xr-var-dims'>(latitude)</div><div class='xr-var-dtype'>float32</div><div class='xr-var-preview xr-preview'>36.78</div><input id='attrs-b92502c7-318c-4be7-8c3e-8d9a81855b73' class='xr-var-attrs-in' type='checkbox' ><label for='attrs-b92502c7-318c-4be7-8c3e-8d9a81855b73' title='Show/Hide attributes'><svg class='icon xr-icon-file-text2'><use xlink:href='#icon-file-text2'></use></svg></label><input id='data-161f67fe-7880-4b62-ab77-421702616020' class='xr-var-data-in' type='checkbox'><label for='data-161f67fe-7880-4b62-ab77-421702616020' title='Show/Hide data repr'><svg class='icon xr-icon-database'><use xlink:href='#icon-database'></use></svg></label><div class='xr-var-attrs'><dl class='xr-attrs'><dt><span>long_name :</span></dt><dd>Latitude</dd><dt><span>short_name :</span></dt><dd>latitude</dd><dt><span>standard_name :</span></dt><dd>latitude</dd><dt><span>units :</span></dt><dd>degrees_north</dd></dl></div><div class='xr-var-data'><pre>array([36.785], dtype=float32)</pre></div></li><li class='xr-var-item'><div class='xr-var-name'><span class='xr-has-index'>longitude</span></div><div class='xr-var-dims'>(longitude)</div><div class='xr-var-dtype'>float32</div><div class='xr-var-preview xr-preview'>-122.4</div><input id='attrs-264101ac-5b6a-4b58-8f64-ed3ecad119f9' class='xr-var-attrs-in' type='checkbox' ><label for='attrs-264101ac-5b6a-4b58-8f64-ed3ecad119f9' title='Show/Hide attributes'><svg class='icon xr-icon-file-text2'><use xlink:href='#icon-file-text2'></use></svg></label><input id='data-cb22ef0f-f419-4d0b-afcf-7596d69f36b9' class='xr-var-data-in' type='checkbox'><label for='data-cb22ef0f-f419-4d0b-afcf-7596d69f36b9' title='Show/Hide data repr'><svg class='icon xr-icon-database'><use xlink:href='#icon-database'></use></svg></label><div class='xr-var-attrs'><dl class='xr-attrs'><dt><span>long_name :</span></dt><dd>Longitude</dd><dt><span>short_name :</span></dt><dd>longitude</dd><dt><span>standard_name :</span></dt><dd>longitude</dd><dt><span>units :</span></dt><dd>degrees_east</dd></dl></div><div class='xr-var-data'><pre>array([-122.398], dtype=float32)</pre></div></li></ul></div></li><li class='xr-section-item'><input id='section-a2b27580-3501-480d-838e-b9c81d2f5e34' class='xr-section-summary-in' type='checkbox'  checked><label for='section-a2b27580-3501-480d-838e-b9c81d2f5e34' class='xr-section-summary' >Data variables: <span>(13)</span></label><div class='xr-section-inline-details'></div><div class='xr-section-details'><ul class='xr-var-list'><li class='xr-var-item'><div class='xr-var-name'><span>wind_dir</span></div><div class='xr-var-dims'>(time, latitude, longitude)</div><div class='xr-var-dtype'>float64</div><div class='xr-var-preview xr-preview'>...</div><input id='attrs-b91c4a8d-875d-43ab-8b71-97bbc1a6a366' class='xr-var-attrs-in' type='checkbox' ><label for='attrs-b91c4a8d-875d-43ab-8b71-97bbc1a6a366' title='Show/Hide attributes'><svg class='icon xr-icon-file-text2'><use xlink:href='#icon-file-text2'></use></svg></label><input id='data-68f9e2db-73e1-4e49-bec4-44c9d29da17f' class='xr-var-data-in' type='checkbox'><label for='data-68f9e2db-73e1-4e49-bec4-44c9d29da17f' title='Show/Hide data repr'><svg class='icon xr-icon-database'><use xlink:href='#icon-database'></use></svg></label><div class='xr-var-attrs'><dl class='xr-attrs'><dt><span>long_name :</span></dt><dd>Wind Direction</dd><dt><span>short_name :</span></dt><dd>wdir</dd><dt><span>standard_name :</span></dt><dd>wind_from_direction</dd><dt><span>units :</span></dt><dd>degrees_true</dd></dl></div><div class='xr-var-data'><pre>array([[[310.]],\n",
       "\n",
       "       [[308.]],\n",
       "\n",
       "       ...,\n",
       "\n",
       "       [[328.]],\n",
       "\n",
       "       [[330.]]])</pre></div></li><li class='xr-var-item'><div class='xr-var-name'><span>wind_spd</span></div><div class='xr-var-dims'>(time, latitude, longitude)</div><div class='xr-var-dtype'>float32</div><div class='xr-var-preview xr-preview'>...</div><input id='attrs-9c039132-9be5-4b97-b889-6969153fad2e' class='xr-var-attrs-in' type='checkbox' ><label for='attrs-9c039132-9be5-4b97-b889-6969153fad2e' title='Show/Hide attributes'><svg class='icon xr-icon-file-text2'><use xlink:href='#icon-file-text2'></use></svg></label><input id='data-4cfe19c1-1dff-4724-8775-d815185711b4' class='xr-var-data-in' type='checkbox'><label for='data-4cfe19c1-1dff-4724-8775-d815185711b4' title='Show/Hide data repr'><svg class='icon xr-icon-database'><use xlink:href='#icon-database'></use></svg></label><div class='xr-var-attrs'><dl class='xr-attrs'><dt><span>long_name :</span></dt><dd>Wind Speed</dd><dt><span>short_name :</span></dt><dd>wspd</dd><dt><span>standard_name :</span></dt><dd>wind_speed</dd><dt><span>units :</span></dt><dd>meters/second</dd></dl></div><div class='xr-var-data'><pre>array([[[ 4.6]],\n",
       "\n",
       "       [[ 4.5]],\n",
       "\n",
       "       ...,\n",
       "\n",
       "       [[13.2]],\n",
       "\n",
       "       [[12.3]]], dtype=float32)</pre></div></li><li class='xr-var-item'><div class='xr-var-name'><span>gust</span></div><div class='xr-var-dims'>(time, latitude, longitude)</div><div class='xr-var-dtype'>float32</div><div class='xr-var-preview xr-preview'>...</div><input id='attrs-fcc9c0df-3833-4a5d-ae99-244bdac5cf34' class='xr-var-attrs-in' type='checkbox' ><label for='attrs-fcc9c0df-3833-4a5d-ae99-244bdac5cf34' title='Show/Hide attributes'><svg class='icon xr-icon-file-text2'><use xlink:href='#icon-file-text2'></use></svg></label><input id='data-ff7d3ee9-6f2a-4401-a850-8fae9d1de19e' class='xr-var-data-in' type='checkbox'><label for='data-ff7d3ee9-6f2a-4401-a850-8fae9d1de19e' title='Show/Hide data repr'><svg class='icon xr-icon-database'><use xlink:href='#icon-database'></use></svg></label><div class='xr-var-attrs'><dl class='xr-attrs'><dt><span>long_name :</span></dt><dd>Wind Gust Speed</dd><dt><span>short_name :</span></dt><dd>gst</dd><dt><span>standard_name :</span></dt><dd>gust</dd><dt><span>units :</span></dt><dd>meters/second</dd></dl></div><div class='xr-var-data'><pre>array([[[ 6.5]],\n",
       "\n",
       "       [[ 6.3]],\n",
       "\n",
       "       ...,\n",
       "\n",
       "       [[16.7]],\n",
       "\n",
       "       [[15.4]]], dtype=float32)</pre></div></li><li class='xr-var-item'><div class='xr-var-name'><span>wave_height</span></div><div class='xr-var-dims'>(time, latitude, longitude)</div><div class='xr-var-dtype'>float32</div><div class='xr-var-preview xr-preview'>...</div><input id='attrs-7a39620e-bc83-4a43-9d1a-65ca921f2d82' class='xr-var-attrs-in' type='checkbox' ><label for='attrs-7a39620e-bc83-4a43-9d1a-65ca921f2d82' title='Show/Hide attributes'><svg class='icon xr-icon-file-text2'><use xlink:href='#icon-file-text2'></use></svg></label><input id='data-cb7ad3b0-7547-4c30-94fe-5f2733d02d0b' class='xr-var-data-in' type='checkbox'><label for='data-cb7ad3b0-7547-4c30-94fe-5f2733d02d0b' title='Show/Hide data repr'><svg class='icon xr-icon-database'><use xlink:href='#icon-database'></use></svg></label><div class='xr-var-attrs'><dl class='xr-attrs'><dt><span>long_name :</span></dt><dd>Significant Wave Height</dd><dt><span>short_name :</span></dt><dd>wvht</dd><dt><span>standard_name :</span></dt><dd>significant_height_of_wave</dd><dt><span>units :</span></dt><dd>meters</dd></dl></div><div class='xr-var-data'><pre>array([[[ nan]],\n",
       "\n",
       "       [[ nan]],\n",
       "\n",
       "       ...,\n",
       "\n",
       "       [[4.44]],\n",
       "\n",
       "       [[ nan]]], dtype=float32)</pre></div></li><li class='xr-var-item'><div class='xr-var-name'><span>dominant_wpd</span></div><div class='xr-var-dims'>(time, latitude, longitude)</div><div class='xr-var-dtype'>timedelta64[ns]</div><div class='xr-var-preview xr-preview'>...</div><input id='attrs-44af1bde-1b37-400e-a342-3a74f93f7e84' class='xr-var-attrs-in' type='checkbox' ><label for='attrs-44af1bde-1b37-400e-a342-3a74f93f7e84' title='Show/Hide attributes'><svg class='icon xr-icon-file-text2'><use xlink:href='#icon-file-text2'></use></svg></label><input id='data-e7c25b52-11df-49e0-902d-2d026c6dd50b' class='xr-var-data-in' type='checkbox'><label for='data-e7c25b52-11df-49e0-902d-2d026c6dd50b' title='Show/Hide data repr'><svg class='icon xr-icon-database'><use xlink:href='#icon-database'></use></svg></label><div class='xr-var-attrs'><dl class='xr-attrs'><dt><span>long_name :</span></dt><dd>Dominant Wave Period</dd><dt><span>short_name :</span></dt><dd>dpd</dd><dt><span>standard_name :</span></dt><dd>dominant_wave_period</dd></dl></div><div class='xr-var-data'><pre>array([[[      &#x27;NaT&#x27;]],\n",
       "\n",
       "       [[      &#x27;NaT&#x27;]],\n",
       "\n",
       "       ...,\n",
       "\n",
       "       [[16000000000]],\n",
       "\n",
       "       [[      &#x27;NaT&#x27;]]], dtype=&#x27;timedelta64[ns]&#x27;)</pre></div></li><li class='xr-var-item'><div class='xr-var-name'><span>average_wpd</span></div><div class='xr-var-dims'>(time, latitude, longitude)</div><div class='xr-var-dtype'>timedelta64[ns]</div><div class='xr-var-preview xr-preview'>...</div><input id='attrs-7afa02b1-7fd9-4f13-bdf3-99a06ecfb7e9' class='xr-var-attrs-in' type='checkbox' ><label for='attrs-7afa02b1-7fd9-4f13-bdf3-99a06ecfb7e9' title='Show/Hide attributes'><svg class='icon xr-icon-file-text2'><use xlink:href='#icon-file-text2'></use></svg></label><input id='data-c3fb5e55-0543-4bf4-8335-c7ee06b0b118' class='xr-var-data-in' type='checkbox'><label for='data-c3fb5e55-0543-4bf4-8335-c7ee06b0b118' title='Show/Hide data repr'><svg class='icon xr-icon-database'><use xlink:href='#icon-database'></use></svg></label><div class='xr-var-attrs'><dl class='xr-attrs'><dt><span>long_name :</span></dt><dd>Average Wave Period</dd><dt><span>short_name :</span></dt><dd>apd</dd><dt><span>standard_name :</span></dt><dd>average_wave_period</dd></dl></div><div class='xr-var-data'><pre>array([[[     &#x27;NaT&#x27;]],\n",
       "\n",
       "       [[     &#x27;NaT&#x27;]],\n",
       "\n",
       "       ...,\n",
       "\n",
       "       [[9260000229]],\n",
       "\n",
       "       [[     &#x27;NaT&#x27;]]], dtype=&#x27;timedelta64[ns]&#x27;)</pre></div></li><li class='xr-var-item'><div class='xr-var-name'><span>mean_wave_dir</span></div><div class='xr-var-dims'>(time, latitude, longitude)</div><div class='xr-var-dtype'>float64</div><div class='xr-var-preview xr-preview'>...</div><input id='attrs-827a1ed5-af40-4cae-bfbc-034bb697b61c' class='xr-var-attrs-in' type='checkbox' ><label for='attrs-827a1ed5-af40-4cae-bfbc-034bb697b61c' title='Show/Hide attributes'><svg class='icon xr-icon-file-text2'><use xlink:href='#icon-file-text2'></use></svg></label><input id='data-2534eb52-05ed-4b32-8fc7-05133492f590' class='xr-var-data-in' type='checkbox'><label for='data-2534eb52-05ed-4b32-8fc7-05133492f590' title='Show/Hide data repr'><svg class='icon xr-icon-database'><use xlink:href='#icon-database'></use></svg></label><div class='xr-var-attrs'><dl class='xr-attrs'><dt><span>long_name :</span></dt><dd>Mean Wave Direction</dd><dt><span>short_name :</span></dt><dd>mwd</dd><dt><span>standard_name :</span></dt><dd>mean_wave_direction</dd><dt><span>units :</span></dt><dd>degrees_true</dd></dl></div><div class='xr-var-data'><pre>array([[[ nan]],\n",
       "\n",
       "       [[ nan]],\n",
       "\n",
       "       ...,\n",
       "\n",
       "       [[304.]],\n",
       "\n",
       "       [[ nan]]])</pre></div></li><li class='xr-var-item'><div class='xr-var-name'><span>air_pressure</span></div><div class='xr-var-dims'>(time, latitude, longitude)</div><div class='xr-var-dtype'>float32</div><div class='xr-var-preview xr-preview'>...</div><input id='attrs-79d548dc-e03c-48c8-83ed-b3ec79ecf42a' class='xr-var-attrs-in' type='checkbox' ><label for='attrs-79d548dc-e03c-48c8-83ed-b3ec79ecf42a' title='Show/Hide attributes'><svg class='icon xr-icon-file-text2'><use xlink:href='#icon-file-text2'></use></svg></label><input id='data-10918f37-4bb0-4920-9209-dec4c86ea463' class='xr-var-data-in' type='checkbox'><label for='data-10918f37-4bb0-4920-9209-dec4c86ea463' title='Show/Hide data repr'><svg class='icon xr-icon-database'><use xlink:href='#icon-database'></use></svg></label><div class='xr-var-attrs'><dl class='xr-attrs'><dt><span>long_name :</span></dt><dd>Sea Level Pressure</dd><dt><span>short_name :</span></dt><dd>pres</dd><dt><span>standard_name :</span></dt><dd>air_pressure_at_sea_level</dd><dt><span>units :</span></dt><dd>hPa</dd></dl></div><div class='xr-var-data'><pre>array([[[1020.3]],\n",
       "\n",
       "       [[1020.2]],\n",
       "\n",
       "       ...,\n",
       "\n",
       "       [[1020.6]],\n",
       "\n",
       "       [[1020.6]]], dtype=float32)</pre></div></li><li class='xr-var-item'><div class='xr-var-name'><span>air_temperature</span></div><div class='xr-var-dims'>(time, latitude, longitude)</div><div class='xr-var-dtype'>float32</div><div class='xr-var-preview xr-preview'>...</div><input id='attrs-630fff22-8fe4-4e85-a49a-1185d66f5bf8' class='xr-var-attrs-in' type='checkbox' ><label for='attrs-630fff22-8fe4-4e85-a49a-1185d66f5bf8' title='Show/Hide attributes'><svg class='icon xr-icon-file-text2'><use xlink:href='#icon-file-text2'></use></svg></label><input id='data-c3ced859-9c8f-4424-b269-cba92d42f33e' class='xr-var-data-in' type='checkbox'><label for='data-c3ced859-9c8f-4424-b269-cba92d42f33e' title='Show/Hide data repr'><svg class='icon xr-icon-database'><use xlink:href='#icon-database'></use></svg></label><div class='xr-var-attrs'><dl class='xr-attrs'><dt><span>long_name :</span></dt><dd>Air Temperature</dd><dt><span>short_name :</span></dt><dd>atmp</dd><dt><span>standard_name :</span></dt><dd>air_temperature</dd><dt><span>units :</span></dt><dd>degree_Celsius</dd></dl></div><div class='xr-var-data'><pre>array([[[13.6]],\n",
       "\n",
       "       [[13.6]],\n",
       "\n",
       "       ...,\n",
       "\n",
       "       [[11.9]],\n",
       "\n",
       "       [[11.9]]], dtype=float32)</pre></div></li><li class='xr-var-item'><div class='xr-var-name'><span>sea_surface_temperature</span></div><div class='xr-var-dims'>(time, latitude, longitude)</div><div class='xr-var-dtype'>float32</div><div class='xr-var-preview xr-preview'>...</div><input id='attrs-659233bb-bed2-4bbd-9d8f-22984578843a' class='xr-var-attrs-in' type='checkbox' ><label for='attrs-659233bb-bed2-4bbd-9d8f-22984578843a' title='Show/Hide attributes'><svg class='icon xr-icon-file-text2'><use xlink:href='#icon-file-text2'></use></svg></label><input id='data-d3874117-4a29-40bf-b1ea-0b320eec751e' class='xr-var-data-in' type='checkbox'><label for='data-d3874117-4a29-40bf-b1ea-0b320eec751e' title='Show/Hide data repr'><svg class='icon xr-icon-database'><use xlink:href='#icon-database'></use></svg></label><div class='xr-var-attrs'><dl class='xr-attrs'><dt><span>long_name :</span></dt><dd>Sea Surface Temperature</dd><dt><span>short_name :</span></dt><dd>wtmp</dd><dt><span>standard_name :</span></dt><dd>sea_surface_temperature</dd><dt><span>units :</span></dt><dd>degree_Celsius</dd></dl></div><div class='xr-var-data'><pre>array([[[13.7]],\n",
       "\n",
       "       [[13.7]],\n",
       "\n",
       "       ...,\n",
       "\n",
       "       [[12.4]],\n",
       "\n",
       "       [[12.4]]], dtype=float32)</pre></div></li><li class='xr-var-item'><div class='xr-var-name'><span>dewpt_temperature</span></div><div class='xr-var-dims'>(time, latitude, longitude)</div><div class='xr-var-dtype'>float32</div><div class='xr-var-preview xr-preview'>...</div><input id='attrs-4a929235-0850-42a7-bb2f-f0345a64f5b6' class='xr-var-attrs-in' type='checkbox' ><label for='attrs-4a929235-0850-42a7-bb2f-f0345a64f5b6' title='Show/Hide attributes'><svg class='icon xr-icon-file-text2'><use xlink:href='#icon-file-text2'></use></svg></label><input id='data-45f55067-4848-4ce6-a99c-d4e2aa888f86' class='xr-var-data-in' type='checkbox'><label for='data-45f55067-4848-4ce6-a99c-d4e2aa888f86' title='Show/Hide data repr'><svg class='icon xr-icon-database'><use xlink:href='#icon-database'></use></svg></label><div class='xr-var-attrs'><dl class='xr-attrs'><dt><span>long_name :</span></dt><dd>Dew Point Temperature</dd><dt><span>short_name :</span></dt><dd>dewp</dd><dt><span>standard_name :</span></dt><dd>dew_point_temperature</dd><dt><span>units :</span></dt><dd>degree_Celsius</dd></dl></div><div class='xr-var-data'><pre>array([[[11.8]],\n",
       "\n",
       "       [[11.9]],\n",
       "\n",
       "       ...,\n",
       "\n",
       "       [[ 9.3]],\n",
       "\n",
       "       [[ 9.2]]], dtype=float32)</pre></div></li><li class='xr-var-item'><div class='xr-var-name'><span>visibility</span></div><div class='xr-var-dims'>(time, latitude, longitude)</div><div class='xr-var-dtype'>float32</div><div class='xr-var-preview xr-preview'>...</div><input id='attrs-4370059f-621d-490b-a355-6a59f59a268b' class='xr-var-attrs-in' type='checkbox' ><label for='attrs-4370059f-621d-490b-a355-6a59f59a268b' title='Show/Hide attributes'><svg class='icon xr-icon-file-text2'><use xlink:href='#icon-file-text2'></use></svg></label><input id='data-c4650966-c80e-48c4-8b04-d53c1dfeb2c1' class='xr-var-data-in' type='checkbox'><label for='data-c4650966-c80e-48c4-8b04-d53c1dfeb2c1' title='Show/Hide data repr'><svg class='icon xr-icon-database'><use xlink:href='#icon-database'></use></svg></label><div class='xr-var-attrs'><dl class='xr-attrs'><dt><span>long_name :</span></dt><dd>Visibility</dd><dt><span>short_name :</span></dt><dd>vis</dd><dt><span>standard_name :</span></dt><dd>visibility_in_air</dd><dt><span>units :</span></dt><dd>US_statute_miles</dd></dl></div><div class='xr-var-data'><pre>array([[[nan]],\n",
       "\n",
       "       [[nan]],\n",
       "\n",
       "       ...,\n",
       "\n",
       "       [[nan]],\n",
       "\n",
       "       [[nan]]], dtype=float32)</pre></div></li><li class='xr-var-item'><div class='xr-var-name'><span>water_level</span></div><div class='xr-var-dims'>(time, latitude, longitude)</div><div class='xr-var-dtype'>float32</div><div class='xr-var-preview xr-preview'>...</div><input id='attrs-9f2603db-c84c-4bde-9afe-ead0f66c4497' class='xr-var-attrs-in' type='checkbox' ><label for='attrs-9f2603db-c84c-4bde-9afe-ead0f66c4497' title='Show/Hide attributes'><svg class='icon xr-icon-file-text2'><use xlink:href='#icon-file-text2'></use></svg></label><input id='data-25bb3072-fa6e-4b3f-8e0c-b872c29787d0' class='xr-var-data-in' type='checkbox'><label for='data-25bb3072-fa6e-4b3f-8e0c-b872c29787d0' title='Show/Hide data repr'><svg class='icon xr-icon-database'><use xlink:href='#icon-database'></use></svg></label><div class='xr-var-attrs'><dl class='xr-attrs'><dt><span>long_name :</span></dt><dd>Tide Water Level</dd><dt><span>short_name :</span></dt><dd>tide</dd><dt><span>standard_name :</span></dt><dd>water_level</dd><dt><span>units :</span></dt><dd>feet</dd></dl></div><div class='xr-var-data'><pre>array([[[nan]],\n",
       "\n",
       "       [[nan]],\n",
       "\n",
       "       ...,\n",
       "\n",
       "       [[nan]],\n",
       "\n",
       "       [[nan]]], dtype=float32)</pre></div></li></ul></div></li><li class='xr-section-item'><input id='section-33f0c8df-33a9-4d9e-8a50-c4798d8d84ea' class='xr-section-summary-in' type='checkbox'  checked><label for='section-33f0c8df-33a9-4d9e-8a50-c4798d8d84ea' class='xr-section-summary' >Attributes: <span>(8)</span></label><div class='xr-section-inline-details'></div><div class='xr-section-details'><dl class='xr-attrs'><dt><span>institution :</span></dt><dd>NOAA National Data Buoy Center and Participators in Data Assembly Center</dd><dt><span>url :</span></dt><dd>http://dods.ndbc.noaa.gov</dd><dt><span>quality :</span></dt><dd>Automated QC checks with manual editing and comprehensive monthly QC</dd><dt><span>conventions :</span></dt><dd>COARDS</dd><dt><span>station :</span></dt><dd>46042</dd><dt><span>comment :</span></dt><dd>MONTEREY - 27NM WNW of Monterey, CA</dd><dt><span>location :</span></dt><dd>36.785 N 122.398 W </dd><dt><span>DODS_EXTRA.Unlimited_Dimension :</span></dt><dd>time</dd></dl></div></li></ul></div></div>"
      ],
      "text/plain": [
       "<xarray.Dataset>\n",
       "Dimensions:                  (latitude: 1, longitude: 1, time: 52260)\n",
       "Coordinates:\n",
       "  * time                     (time) datetime64[ns] 2020-01-01 ... 2020-12-31T...\n",
       "  * latitude                 (latitude) float32 36.78\n",
       "  * longitude                (longitude) float32 -122.4\n",
       "Data variables:\n",
       "    wind_dir                 (time, latitude, longitude) float64 ...\n",
       "    wind_spd                 (time, latitude, longitude) float32 ...\n",
       "    gust                     (time, latitude, longitude) float32 ...\n",
       "    wave_height              (time, latitude, longitude) float32 ...\n",
       "    dominant_wpd             (time, latitude, longitude) timedelta64[ns] ...\n",
       "    average_wpd              (time, latitude, longitude) timedelta64[ns] ...\n",
       "    mean_wave_dir            (time, latitude, longitude) float64 ...\n",
       "    air_pressure             (time, latitude, longitude) float32 ...\n",
       "    air_temperature          (time, latitude, longitude) float32 ...\n",
       "    sea_surface_temperature  (time, latitude, longitude) float32 ...\n",
       "    dewpt_temperature        (time, latitude, longitude) float32 ...\n",
       "    visibility               (time, latitude, longitude) float32 ...\n",
       "    water_level              (time, latitude, longitude) float32 ...\n",
       "Attributes:\n",
       "    institution:                     NOAA National Data Buoy Center and Parti...\n",
       "    url:                             http://dods.ndbc.noaa.gov\n",
       "    quality:                         Automated QC checks with manual editing ...\n",
       "    conventions:                     COARDS\n",
       "    station:                         46042\n",
       "    comment:                         MONTEREY - 27NM WNW of Monterey, CA\n",
       "    location:                        36.785 N 122.398 W \n",
       "    DODS_EXTRA.Unlimited_Dimension:  time"
      ]
     },
     "execution_count": 42,
     "metadata": {},
     "output_type": "execute_result"
    }
   ],
   "source": [
    "ds"
   ]
  },
  {
   "cell_type": "markdown",
   "metadata": {
    "id": "ALIY2F0FHAmQ"
   },
   "source": [
    "To make all of the variables functions of time only, rather than time and space, we can \"squeeze\" the dataset. This removes the latitude and longitude dimensions of the data set (although they are kept as coordinates)."
   ]
  },
  {
   "cell_type": "code",
   "execution_count": 43,
   "metadata": {
    "id": "ohOHem1wHAmQ"
   },
   "outputs": [],
   "source": [
    "ds = ds.squeeze()"
   ]
  },
  {
   "cell_type": "markdown",
   "metadata": {
    "id": "3rP0HG-iHAmX"
   },
   "source": [
    "#### Labeled arrays\n",
    "\n",
    "One powerful feature of xarray is the ability to store metadata with each array. This can help you keep track of units."
   ]
  },
  {
   "cell_type": "code",
   "execution_count": 44,
   "metadata": {
    "id": "p0KNTrv_HAmZ"
   },
   "outputs": [
    {
     "data": {
      "text/html": [
       "<div><svg style=\"position: absolute; width: 0; height: 0; overflow: hidden\">\n",
       "<defs>\n",
       "<symbol id=\"icon-database\" viewBox=\"0 0 32 32\">\n",
       "<path d=\"M16 0c-8.837 0-16 2.239-16 5v4c0 2.761 7.163 5 16 5s16-2.239 16-5v-4c0-2.761-7.163-5-16-5z\"></path>\n",
       "<path d=\"M16 17c-8.837 0-16-2.239-16-5v6c0 2.761 7.163 5 16 5s16-2.239 16-5v-6c0 2.761-7.163 5-16 5z\"></path>\n",
       "<path d=\"M16 26c-8.837 0-16-2.239-16-5v6c0 2.761 7.163 5 16 5s16-2.239 16-5v-6c0 2.761-7.163 5-16 5z\"></path>\n",
       "</symbol>\n",
       "<symbol id=\"icon-file-text2\" viewBox=\"0 0 32 32\">\n",
       "<path d=\"M28.681 7.159c-0.694-0.947-1.662-2.053-2.724-3.116s-2.169-2.030-3.116-2.724c-1.612-1.182-2.393-1.319-2.841-1.319h-15.5c-1.378 0-2.5 1.121-2.5 2.5v27c0 1.378 1.122 2.5 2.5 2.5h23c1.378 0 2.5-1.122 2.5-2.5v-19.5c0-0.448-0.137-1.23-1.319-2.841zM24.543 5.457c0.959 0.959 1.712 1.825 2.268 2.543h-4.811v-4.811c0.718 0.556 1.584 1.309 2.543 2.268zM28 29.5c0 0.271-0.229 0.5-0.5 0.5h-23c-0.271 0-0.5-0.229-0.5-0.5v-27c0-0.271 0.229-0.5 0.5-0.5 0 0 15.499-0 15.5 0v7c0 0.552 0.448 1 1 1h7v19.5z\"></path>\n",
       "<path d=\"M23 26h-14c-0.552 0-1-0.448-1-1s0.448-1 1-1h14c0.552 0 1 0.448 1 1s-0.448 1-1 1z\"></path>\n",
       "<path d=\"M23 22h-14c-0.552 0-1-0.448-1-1s0.448-1 1-1h14c0.552 0 1 0.448 1 1s-0.448 1-1 1z\"></path>\n",
       "<path d=\"M23 18h-14c-0.552 0-1-0.448-1-1s0.448-1 1-1h14c0.552 0 1 0.448 1 1s-0.448 1-1 1z\"></path>\n",
       "</symbol>\n",
       "</defs>\n",
       "</svg>\n",
       "<style>/* CSS stylesheet for displaying xarray objects in jupyterlab.\n",
       " *\n",
       " */\n",
       "\n",
       ":root {\n",
       "  --xr-font-color0: var(--jp-content-font-color0, rgba(0, 0, 0, 1));\n",
       "  --xr-font-color2: var(--jp-content-font-color2, rgba(0, 0, 0, 0.54));\n",
       "  --xr-font-color3: var(--jp-content-font-color3, rgba(0, 0, 0, 0.38));\n",
       "  --xr-border-color: var(--jp-border-color2, #e0e0e0);\n",
       "  --xr-disabled-color: var(--jp-layout-color3, #bdbdbd);\n",
       "  --xr-background-color: var(--jp-layout-color0, white);\n",
       "  --xr-background-color-row-even: var(--jp-layout-color1, white);\n",
       "  --xr-background-color-row-odd: var(--jp-layout-color2, #eeeeee);\n",
       "}\n",
       "\n",
       "html[theme=dark],\n",
       "body.vscode-dark {\n",
       "  --xr-font-color0: rgba(255, 255, 255, 1);\n",
       "  --xr-font-color2: rgba(255, 255, 255, 0.54);\n",
       "  --xr-font-color3: rgba(255, 255, 255, 0.38);\n",
       "  --xr-border-color: #1F1F1F;\n",
       "  --xr-disabled-color: #515151;\n",
       "  --xr-background-color: #111111;\n",
       "  --xr-background-color-row-even: #111111;\n",
       "  --xr-background-color-row-odd: #313131;\n",
       "}\n",
       "\n",
       ".xr-wrap {\n",
       "  display: block;\n",
       "  min-width: 300px;\n",
       "  max-width: 700px;\n",
       "}\n",
       "\n",
       ".xr-text-repr-fallback {\n",
       "  /* fallback to plain text repr when CSS is not injected (untrusted notebook) */\n",
       "  display: none;\n",
       "}\n",
       "\n",
       ".xr-header {\n",
       "  padding-top: 6px;\n",
       "  padding-bottom: 6px;\n",
       "  margin-bottom: 4px;\n",
       "  border-bottom: solid 1px var(--xr-border-color);\n",
       "}\n",
       "\n",
       ".xr-header > div,\n",
       ".xr-header > ul {\n",
       "  display: inline;\n",
       "  margin-top: 0;\n",
       "  margin-bottom: 0;\n",
       "}\n",
       "\n",
       ".xr-obj-type,\n",
       ".xr-array-name {\n",
       "  margin-left: 2px;\n",
       "  margin-right: 10px;\n",
       "}\n",
       "\n",
       ".xr-obj-type {\n",
       "  color: var(--xr-font-color2);\n",
       "}\n",
       "\n",
       ".xr-sections {\n",
       "  padding-left: 0 !important;\n",
       "  display: grid;\n",
       "  grid-template-columns: 150px auto auto 1fr 20px 20px;\n",
       "}\n",
       "\n",
       ".xr-section-item {\n",
       "  display: contents;\n",
       "}\n",
       "\n",
       ".xr-section-item input {\n",
       "  display: none;\n",
       "}\n",
       "\n",
       ".xr-section-item input + label {\n",
       "  color: var(--xr-disabled-color);\n",
       "}\n",
       "\n",
       ".xr-section-item input:enabled + label {\n",
       "  cursor: pointer;\n",
       "  color: var(--xr-font-color2);\n",
       "}\n",
       "\n",
       ".xr-section-item input:enabled + label:hover {\n",
       "  color: var(--xr-font-color0);\n",
       "}\n",
       "\n",
       ".xr-section-summary {\n",
       "  grid-column: 1;\n",
       "  color: var(--xr-font-color2);\n",
       "  font-weight: 500;\n",
       "}\n",
       "\n",
       ".xr-section-summary > span {\n",
       "  display: inline-block;\n",
       "  padding-left: 0.5em;\n",
       "}\n",
       "\n",
       ".xr-section-summary-in:disabled + label {\n",
       "  color: var(--xr-font-color2);\n",
       "}\n",
       "\n",
       ".xr-section-summary-in + label:before {\n",
       "  display: inline-block;\n",
       "  content: '►';\n",
       "  font-size: 11px;\n",
       "  width: 15px;\n",
       "  text-align: center;\n",
       "}\n",
       "\n",
       ".xr-section-summary-in:disabled + label:before {\n",
       "  color: var(--xr-disabled-color);\n",
       "}\n",
       "\n",
       ".xr-section-summary-in:checked + label:before {\n",
       "  content: '▼';\n",
       "}\n",
       "\n",
       ".xr-section-summary-in:checked + label > span {\n",
       "  display: none;\n",
       "}\n",
       "\n",
       ".xr-section-summary,\n",
       ".xr-section-inline-details {\n",
       "  padding-top: 4px;\n",
       "  padding-bottom: 4px;\n",
       "}\n",
       "\n",
       ".xr-section-inline-details {\n",
       "  grid-column: 2 / -1;\n",
       "}\n",
       "\n",
       ".xr-section-details {\n",
       "  display: none;\n",
       "  grid-column: 1 / -1;\n",
       "  margin-bottom: 5px;\n",
       "}\n",
       "\n",
       ".xr-section-summary-in:checked ~ .xr-section-details {\n",
       "  display: contents;\n",
       "}\n",
       "\n",
       ".xr-array-wrap {\n",
       "  grid-column: 1 / -1;\n",
       "  display: grid;\n",
       "  grid-template-columns: 20px auto;\n",
       "}\n",
       "\n",
       ".xr-array-wrap > label {\n",
       "  grid-column: 1;\n",
       "  vertical-align: top;\n",
       "}\n",
       "\n",
       ".xr-preview {\n",
       "  color: var(--xr-font-color3);\n",
       "}\n",
       "\n",
       ".xr-array-preview,\n",
       ".xr-array-data {\n",
       "  padding: 0 5px !important;\n",
       "  grid-column: 2;\n",
       "}\n",
       "\n",
       ".xr-array-data,\n",
       ".xr-array-in:checked ~ .xr-array-preview {\n",
       "  display: none;\n",
       "}\n",
       "\n",
       ".xr-array-in:checked ~ .xr-array-data,\n",
       ".xr-array-preview {\n",
       "  display: inline-block;\n",
       "}\n",
       "\n",
       ".xr-dim-list {\n",
       "  display: inline-block !important;\n",
       "  list-style: none;\n",
       "  padding: 0 !important;\n",
       "  margin: 0;\n",
       "}\n",
       "\n",
       ".xr-dim-list li {\n",
       "  display: inline-block;\n",
       "  padding: 0;\n",
       "  margin: 0;\n",
       "}\n",
       "\n",
       ".xr-dim-list:before {\n",
       "  content: '(';\n",
       "}\n",
       "\n",
       ".xr-dim-list:after {\n",
       "  content: ')';\n",
       "}\n",
       "\n",
       ".xr-dim-list li:not(:last-child):after {\n",
       "  content: ',';\n",
       "  padding-right: 5px;\n",
       "}\n",
       "\n",
       ".xr-has-index {\n",
       "  font-weight: bold;\n",
       "}\n",
       "\n",
       ".xr-var-list,\n",
       ".xr-var-item {\n",
       "  display: contents;\n",
       "}\n",
       "\n",
       ".xr-var-item > div,\n",
       ".xr-var-item label,\n",
       ".xr-var-item > .xr-var-name span {\n",
       "  background-color: var(--xr-background-color-row-even);\n",
       "  margin-bottom: 0;\n",
       "}\n",
       "\n",
       ".xr-var-item > .xr-var-name:hover span {\n",
       "  padding-right: 5px;\n",
       "}\n",
       "\n",
       ".xr-var-list > li:nth-child(odd) > div,\n",
       ".xr-var-list > li:nth-child(odd) > label,\n",
       ".xr-var-list > li:nth-child(odd) > .xr-var-name span {\n",
       "  background-color: var(--xr-background-color-row-odd);\n",
       "}\n",
       "\n",
       ".xr-var-name {\n",
       "  grid-column: 1;\n",
       "}\n",
       "\n",
       ".xr-var-dims {\n",
       "  grid-column: 2;\n",
       "}\n",
       "\n",
       ".xr-var-dtype {\n",
       "  grid-column: 3;\n",
       "  text-align: right;\n",
       "  color: var(--xr-font-color2);\n",
       "}\n",
       "\n",
       ".xr-var-preview {\n",
       "  grid-column: 4;\n",
       "}\n",
       "\n",
       ".xr-var-name,\n",
       ".xr-var-dims,\n",
       ".xr-var-dtype,\n",
       ".xr-preview,\n",
       ".xr-attrs dt {\n",
       "  white-space: nowrap;\n",
       "  overflow: hidden;\n",
       "  text-overflow: ellipsis;\n",
       "  padding-right: 10px;\n",
       "}\n",
       "\n",
       ".xr-var-name:hover,\n",
       ".xr-var-dims:hover,\n",
       ".xr-var-dtype:hover,\n",
       ".xr-attrs dt:hover {\n",
       "  overflow: visible;\n",
       "  width: auto;\n",
       "  z-index: 1;\n",
       "}\n",
       "\n",
       ".xr-var-attrs,\n",
       ".xr-var-data {\n",
       "  display: none;\n",
       "  background-color: var(--xr-background-color) !important;\n",
       "  padding-bottom: 5px !important;\n",
       "}\n",
       "\n",
       ".xr-var-attrs-in:checked ~ .xr-var-attrs,\n",
       ".xr-var-data-in:checked ~ .xr-var-data {\n",
       "  display: block;\n",
       "}\n",
       "\n",
       ".xr-var-data > table {\n",
       "  float: right;\n",
       "}\n",
       "\n",
       ".xr-var-name span,\n",
       ".xr-var-data,\n",
       ".xr-attrs {\n",
       "  padding-left: 25px !important;\n",
       "}\n",
       "\n",
       ".xr-attrs,\n",
       ".xr-var-attrs,\n",
       ".xr-var-data {\n",
       "  grid-column: 1 / -1;\n",
       "}\n",
       "\n",
       "dl.xr-attrs {\n",
       "  padding: 0;\n",
       "  margin: 0;\n",
       "  display: grid;\n",
       "  grid-template-columns: 125px auto;\n",
       "}\n",
       "\n",
       ".xr-attrs dt,\n",
       ".xr-attrs dd {\n",
       "  padding: 0;\n",
       "  margin: 0;\n",
       "  float: left;\n",
       "  padding-right: 10px;\n",
       "  width: auto;\n",
       "}\n",
       "\n",
       ".xr-attrs dt {\n",
       "  font-weight: normal;\n",
       "  grid-column: 1;\n",
       "}\n",
       "\n",
       ".xr-attrs dt:hover span {\n",
       "  display: inline-block;\n",
       "  background: var(--xr-background-color);\n",
       "  padding-right: 10px;\n",
       "}\n",
       "\n",
       ".xr-attrs dd {\n",
       "  grid-column: 2;\n",
       "  white-space: pre-wrap;\n",
       "  word-break: break-all;\n",
       "}\n",
       "\n",
       ".xr-icon-database,\n",
       ".xr-icon-file-text2 {\n",
       "  display: inline-block;\n",
       "  vertical-align: middle;\n",
       "  width: 1em;\n",
       "  height: 1.5em !important;\n",
       "  stroke-width: 0;\n",
       "  stroke: currentColor;\n",
       "  fill: currentColor;\n",
       "}\n",
       "</style><pre class='xr-text-repr-fallback'>&lt;xarray.DataArray &#x27;wind_spd&#x27; (time: 52260)&gt;\n",
       "array([ 4.6,  4.5,  4.5, ..., 12.5, 13.2, 12.3], dtype=float32)\n",
       "Coordinates:\n",
       "  * time       (time) datetime64[ns] 2020-01-01 ... 2020-12-31T23:50:00\n",
       "    latitude   float32 36.78\n",
       "    longitude  float32 -122.4\n",
       "Attributes:\n",
       "    long_name:      Wind Speed\n",
       "    short_name:     wspd\n",
       "    standard_name:  wind_speed\n",
       "    units:          meters/second</pre><div class='xr-wrap' hidden><div class='xr-header'><div class='xr-obj-type'>xarray.DataArray</div><div class='xr-array-name'>'wind_spd'</div><ul class='xr-dim-list'><li><span class='xr-has-index'>time</span>: 52260</li></ul></div><ul class='xr-sections'><li class='xr-section-item'><div class='xr-array-wrap'><input id='section-09d39be7-8b16-4e4d-b7b7-5252bcd8c8bc' class='xr-array-in' type='checkbox' checked><label for='section-09d39be7-8b16-4e4d-b7b7-5252bcd8c8bc' title='Show/hide data repr'><svg class='icon xr-icon-database'><use xlink:href='#icon-database'></use></svg></label><div class='xr-array-preview xr-preview'><span>4.6 4.5 4.5 5.0 5.2 4.8 5.9 6.8 ... 12.2 12.5 11.9 12.4 12.5 13.2 12.3</span></div><div class='xr-array-data'><pre>array([ 4.6,  4.5,  4.5, ..., 12.5, 13.2, 12.3], dtype=float32)</pre></div></div></li><li class='xr-section-item'><input id='section-87acc662-fcc1-49d1-b1e4-b8a2480b3cab' class='xr-section-summary-in' type='checkbox'  checked><label for='section-87acc662-fcc1-49d1-b1e4-b8a2480b3cab' class='xr-section-summary' >Coordinates: <span>(3)</span></label><div class='xr-section-inline-details'></div><div class='xr-section-details'><ul class='xr-var-list'><li class='xr-var-item'><div class='xr-var-name'><span class='xr-has-index'>time</span></div><div class='xr-var-dims'>(time)</div><div class='xr-var-dtype'>datetime64[ns]</div><div class='xr-var-preview xr-preview'>2020-01-01 ... 2020-12-31T23:50:00</div><input id='attrs-fc461acc-9e67-4de6-8b6e-1232c375c048' class='xr-var-attrs-in' type='checkbox' ><label for='attrs-fc461acc-9e67-4de6-8b6e-1232c375c048' title='Show/Hide attributes'><svg class='icon xr-icon-file-text2'><use xlink:href='#icon-file-text2'></use></svg></label><input id='data-5a3504ea-1fb3-4cad-a635-4eda399c68f7' class='xr-var-data-in' type='checkbox'><label for='data-5a3504ea-1fb3-4cad-a635-4eda399c68f7' title='Show/Hide data repr'><svg class='icon xr-icon-database'><use xlink:href='#icon-database'></use></svg></label><div class='xr-var-attrs'><dl class='xr-attrs'><dt><span>long_name :</span></dt><dd>Epoch Time</dd><dt><span>short_name :</span></dt><dd>time</dd><dt><span>standard_name :</span></dt><dd>time</dd></dl></div><div class='xr-var-data'><pre>array([&#x27;2020-01-01T00:00:00.000000000&#x27;, &#x27;2020-01-01T00:10:00.000000000&#x27;,\n",
       "       &#x27;2020-01-01T00:20:00.000000000&#x27;, ..., &#x27;2020-12-31T23:30:00.000000000&#x27;,\n",
       "       &#x27;2020-12-31T23:40:00.000000000&#x27;, &#x27;2020-12-31T23:50:00.000000000&#x27;],\n",
       "      dtype=&#x27;datetime64[ns]&#x27;)</pre></div></li><li class='xr-var-item'><div class='xr-var-name'><span>latitude</span></div><div class='xr-var-dims'>()</div><div class='xr-var-dtype'>float32</div><div class='xr-var-preview xr-preview'>36.78</div><input id='attrs-f5107c0c-8154-4b70-b29a-dd20143cb36d' class='xr-var-attrs-in' type='checkbox' ><label for='attrs-f5107c0c-8154-4b70-b29a-dd20143cb36d' title='Show/Hide attributes'><svg class='icon xr-icon-file-text2'><use xlink:href='#icon-file-text2'></use></svg></label><input id='data-3504c9a1-da51-4549-b5b5-2aebbb098bfd' class='xr-var-data-in' type='checkbox'><label for='data-3504c9a1-da51-4549-b5b5-2aebbb098bfd' title='Show/Hide data repr'><svg class='icon xr-icon-database'><use xlink:href='#icon-database'></use></svg></label><div class='xr-var-attrs'><dl class='xr-attrs'><dt><span>long_name :</span></dt><dd>Latitude</dd><dt><span>short_name :</span></dt><dd>latitude</dd><dt><span>standard_name :</span></dt><dd>latitude</dd><dt><span>units :</span></dt><dd>degrees_north</dd></dl></div><div class='xr-var-data'><pre>array(36.785, dtype=float32)</pre></div></li><li class='xr-var-item'><div class='xr-var-name'><span>longitude</span></div><div class='xr-var-dims'>()</div><div class='xr-var-dtype'>float32</div><div class='xr-var-preview xr-preview'>-122.4</div><input id='attrs-5233ea09-4ac3-40d5-84c9-e61f075d1ea4' class='xr-var-attrs-in' type='checkbox' ><label for='attrs-5233ea09-4ac3-40d5-84c9-e61f075d1ea4' title='Show/Hide attributes'><svg class='icon xr-icon-file-text2'><use xlink:href='#icon-file-text2'></use></svg></label><input id='data-4b869d57-cea2-4776-b203-8c08797125bc' class='xr-var-data-in' type='checkbox'><label for='data-4b869d57-cea2-4776-b203-8c08797125bc' title='Show/Hide data repr'><svg class='icon xr-icon-database'><use xlink:href='#icon-database'></use></svg></label><div class='xr-var-attrs'><dl class='xr-attrs'><dt><span>long_name :</span></dt><dd>Longitude</dd><dt><span>short_name :</span></dt><dd>longitude</dd><dt><span>standard_name :</span></dt><dd>longitude</dd><dt><span>units :</span></dt><dd>degrees_east</dd></dl></div><div class='xr-var-data'><pre>array(-122.398, dtype=float32)</pre></div></li></ul></div></li><li class='xr-section-item'><input id='section-b341bed2-cc8a-4112-b7b8-ded8acf04ea2' class='xr-section-summary-in' type='checkbox'  checked><label for='section-b341bed2-cc8a-4112-b7b8-ded8acf04ea2' class='xr-section-summary' >Attributes: <span>(4)</span></label><div class='xr-section-inline-details'></div><div class='xr-section-details'><dl class='xr-attrs'><dt><span>long_name :</span></dt><dd>Wind Speed</dd><dt><span>short_name :</span></dt><dd>wspd</dd><dt><span>standard_name :</span></dt><dd>wind_speed</dd><dt><span>units :</span></dt><dd>meters/second</dd></dl></div></li></ul></div></div>"
      ],
      "text/plain": [
       "<xarray.DataArray 'wind_spd' (time: 52260)>\n",
       "array([ 4.6,  4.5,  4.5, ..., 12.5, 13.2, 12.3], dtype=float32)\n",
       "Coordinates:\n",
       "  * time       (time) datetime64[ns] 2020-01-01 ... 2020-12-31T23:50:00\n",
       "    latitude   float32 36.78\n",
       "    longitude  float32 -122.4\n",
       "Attributes:\n",
       "    long_name:      Wind Speed\n",
       "    short_name:     wspd\n",
       "    standard_name:  wind_speed\n",
       "    units:          meters/second"
      ]
     },
     "execution_count": 44,
     "metadata": {},
     "output_type": "execute_result"
    }
   ],
   "source": [
    "ds['wind_spd']"
   ]
  },
  {
   "cell_type": "markdown",
   "metadata": {
    "id": "RHisz1fcHAmf"
   },
   "source": [
    "##### *Exercise*\n",
    "\n",
    "What are the units of air pressure in this dataset?"
   ]
  },
  {
   "cell_type": "code",
   "execution_count": 45,
   "metadata": {
    "id": "9d44N6kCHAmg"
   },
   "outputs": [],
   "source": [
    "# insert code here"
   ]
  },
  {
   "cell_type": "markdown",
   "metadata": {
    "id": "4H7u3hKmHAmm"
   },
   "source": [
    "#### Time series plots"
   ]
  },
  {
   "cell_type": "code",
   "execution_count": 46,
   "metadata": {
    "colab": {
     "base_uri": "https://localhost:8080/",
     "height": 298
    },
    "id": "QXtpFroGHAmn",
    "outputId": "f21d69d5-a1a4-461f-895b-9333739d02c3"
   },
   "outputs": [
    {
     "data": {
      "text/plain": [
       "Text(0, 0.5, '[m/s]')"
      ]
     },
     "execution_count": 46,
     "metadata": {},
     "output_type": "execute_result"
    },
    {
     "data": {
      "image/png": "[encoded data removed]",
      "text/plain": [
       "<Figure size 432x288 with 1 Axes>"
      ]
     },
     "metadata": {
      "needs_background": "light"
     },
     "output_type": "display_data"
    }
   ],
   "source": [
    "plt.figure()\n",
    "plt.plot(ds['time'],ds['wind_spd'])\n",
    "plt.title('wind speed')\n",
    "plt.ylabel('[m/s]')"
   ]
  },
  {
   "cell_type": "markdown",
   "metadata": {
    "id": "GtGEueY6HAmz"
   },
   "source": [
    "##### *Exercise*\n",
    "\n",
    "Make a plot for wind *direction*, including title and axis label."
   ]
  },
  {
   "cell_type": "code",
   "execution_count": 47,
   "metadata": {
    "id": "chUcxNaJHAm0"
   },
   "outputs": [],
   "source": [
    "# insert code here"
   ]
  },
  {
   "cell_type": "markdown",
   "metadata": {
    "id": "GpYro6SLHAm5"
   },
   "source": [
    "### Working with vector data\n",
    "\n",
    "Vectors, like wind velocity, are characterized by a magnitude and direction. Scalars, like temperature, only have a magnitude. Vectors can be described in different ways. For example, instead of speed and direction, we can describe a wind vector in terms of its eastward and northward components.\n",
    "\n",
    "#### Calculating vector components\n",
    "\n",
    "NDBC provides data on wind speed and direction. Following typical meteorological convention, the direction describes the direction the wind is blowing from, clockwise from true north. We can convert the data to eastward and northward components. \n",
    "\n",
    "The eastward component describes how hard the wind is blowing towards the east. We will call this the $u$ component, where positive $u$ represents wind blowing toward the east and negative $u$ represents wind blowing toward the west.\n",
    "\n",
    "Similarly, the northward component describes how hard the wind is blowing towards the north. We will call this the $v$ component, where positive $v$ represents wind blowing toward the north and negative $v$ represents wind blowing toward the south.\n",
    "\n",
    "The function `wind_uv_from_spddir` converts wind vectors from speed and direction, as reported by NDBC, to eastward and northward components."
   ]
  },
  {
   "cell_type": "code",
   "execution_count": 48,
   "metadata": {
    "id": "kWB-2nTwHAm6"
   },
   "outputs": [],
   "source": [
    "def wind_uv_from_spddir(wspd,wdir):\n",
    "    '''Convert wind speed and direction to eastward and northward components.\n",
    "    \n",
    "    Inputs\n",
    "    wspd - wind speed\n",
    "    wdir - wind direction (wind is blowing FROM this direction, \n",
    "                           clockwise from true north)\n",
    "    \n",
    "    Output:\n",
    "    u - eastward velocity component (TOWARDS the east)\n",
    "    v - northward velocity component (TOWARDS the north)\n",
    "    '''\n",
    "    \n",
    "    theta = np.array(wdir) # direction CW from true north\n",
    "    theta = theta*np.pi/180. # convert to radians\n",
    "    x = -np.sin(-theta)\n",
    "    y = np.cos(-theta)\n",
    "    theta_cart = np.arctan2(y,x) # direction CCW from east (Cartesian)\n",
    "    u = -wspd*np.cos(theta_cart) # eastward component\n",
    "    v = -wspd*np.sin(theta_cart) # northward component\n",
    "    \n",
    "    return u,v"
   ]
  },
  {
   "cell_type": "code",
   "execution_count": 49,
   "metadata": {
    "id": "oE-chVuVHAm-"
   },
   "outputs": [],
   "source": [
    "ds['wind_east'],ds['wind_north'] = wind_uv_from_spddir(ds['wind_spd'],ds['wind_dir'])"
   ]
  },
  {
   "cell_type": "code",
   "execution_count": 50,
   "metadata": {
    "id": "MMVqprwOHAnD"
   },
   "outputs": [
    {
     "data": {
      "text/html": [
       "<div><svg style=\"position: absolute; width: 0; height: 0; overflow: hidden\">\n",
       "<defs>\n",
       "<symbol id=\"icon-database\" viewBox=\"0 0 32 32\">\n",
       "<path d=\"M16 0c-8.837 0-16 2.239-16 5v4c0 2.761 7.163 5 16 5s16-2.239 16-5v-4c0-2.761-7.163-5-16-5z\"></path>\n",
       "<path d=\"M16 17c-8.837 0-16-2.239-16-5v6c0 2.761 7.163 5 16 5s16-2.239 16-5v-6c0 2.761-7.163 5-16 5z\"></path>\n",
       "<path d=\"M16 26c-8.837 0-16-2.239-16-5v6c0 2.761 7.163 5 16 5s16-2.239 16-5v-6c0 2.761-7.163 5-16 5z\"></path>\n",
       "</symbol>\n",
       "<symbol id=\"icon-file-text2\" viewBox=\"0 0 32 32\">\n",
       "<path d=\"M28.681 7.159c-0.694-0.947-1.662-2.053-2.724-3.116s-2.169-2.030-3.116-2.724c-1.612-1.182-2.393-1.319-2.841-1.319h-15.5c-1.378 0-2.5 1.121-2.5 2.5v27c0 1.378 1.122 2.5 2.5 2.5h23c1.378 0 2.5-1.122 2.5-2.5v-19.5c0-0.448-0.137-1.23-1.319-2.841zM24.543 5.457c0.959 0.959 1.712 1.825 2.268 2.543h-4.811v-4.811c0.718 0.556 1.584 1.309 2.543 2.268zM28 29.5c0 0.271-0.229 0.5-0.5 0.5h-23c-0.271 0-0.5-0.229-0.5-0.5v-27c0-0.271 0.229-0.5 0.5-0.5 0 0 15.499-0 15.5 0v7c0 0.552 0.448 1 1 1h7v19.5z\"></path>\n",
       "<path d=\"M23 26h-14c-0.552 0-1-0.448-1-1s0.448-1 1-1h14c0.552 0 1 0.448 1 1s-0.448 1-1 1z\"></path>\n",
       "<path d=\"M23 22h-14c-0.552 0-1-0.448-1-1s0.448-1 1-1h14c0.552 0 1 0.448 1 1s-0.448 1-1 1z\"></path>\n",
       "<path d=\"M23 18h-14c-0.552 0-1-0.448-1-1s0.448-1 1-1h14c0.552 0 1 0.448 1 1s-0.448 1-1 1z\"></path>\n",
       "</symbol>\n",
       "</defs>\n",
       "</svg>\n",
       "<style>/* CSS stylesheet for displaying xarray objects in jupyterlab.\n",
       " *\n",
       " */\n",
       "\n",
       ":root {\n",
       "  --xr-font-color0: var(--jp-content-font-color0, rgba(0, 0, 0, 1));\n",
       "  --xr-font-color2: var(--jp-content-font-color2, rgba(0, 0, 0, 0.54));\n",
       "  --xr-font-color3: var(--jp-content-font-color3, rgba(0, 0, 0, 0.38));\n",
       "  --xr-border-color: var(--jp-border-color2, #e0e0e0);\n",
       "  --xr-disabled-color: var(--jp-layout-color3, #bdbdbd);\n",
       "  --xr-background-color: var(--jp-layout-color0, white);\n",
       "  --xr-background-color-row-even: var(--jp-layout-color1, white);\n",
       "  --xr-background-color-row-odd: var(--jp-layout-color2, #eeeeee);\n",
       "}\n",
       "\n",
       "html[theme=dark],\n",
       "body.vscode-dark {\n",
       "  --xr-font-color0: rgba(255, 255, 255, 1);\n",
       "  --xr-font-color2: rgba(255, 255, 255, 0.54);\n",
       "  --xr-font-color3: rgba(255, 255, 255, 0.38);\n",
       "  --xr-border-color: #1F1F1F;\n",
       "  --xr-disabled-color: #515151;\n",
       "  --xr-background-color: #111111;\n",
       "  --xr-background-color-row-even: #111111;\n",
       "  --xr-background-color-row-odd: #313131;\n",
       "}\n",
       "\n",
       ".xr-wrap {\n",
       "  display: block;\n",
       "  min-width: 300px;\n",
       "  max-width: 700px;\n",
       "}\n",
       "\n",
       ".xr-text-repr-fallback {\n",
       "  /* fallback to plain text repr when CSS is not injected (untrusted notebook) */\n",
       "  display: none;\n",
       "}\n",
       "\n",
       ".xr-header {\n",
       "  padding-top: 6px;\n",
       "  padding-bottom: 6px;\n",
       "  margin-bottom: 4px;\n",
       "  border-bottom: solid 1px var(--xr-border-color);\n",
       "}\n",
       "\n",
       ".xr-header > div,\n",
       ".xr-header > ul {\n",
       "  display: inline;\n",
       "  margin-top: 0;\n",
       "  margin-bottom: 0;\n",
       "}\n",
       "\n",
       ".xr-obj-type,\n",
       ".xr-array-name {\n",
       "  margin-left: 2px;\n",
       "  margin-right: 10px;\n",
       "}\n",
       "\n",
       ".xr-obj-type {\n",
       "  color: var(--xr-font-color2);\n",
       "}\n",
       "\n",
       ".xr-sections {\n",
       "  padding-left: 0 !important;\n",
       "  display: grid;\n",
       "  grid-template-columns: 150px auto auto 1fr 20px 20px;\n",
       "}\n",
       "\n",
       ".xr-section-item {\n",
       "  display: contents;\n",
       "}\n",
       "\n",
       ".xr-section-item input {\n",
       "  display: none;\n",
       "}\n",
       "\n",
       ".xr-section-item input + label {\n",
       "  color: var(--xr-disabled-color);\n",
       "}\n",
       "\n",
       ".xr-section-item input:enabled + label {\n",
       "  cursor: pointer;\n",
       "  color: var(--xr-font-color2);\n",
       "}\n",
       "\n",
       ".xr-section-item input:enabled + label:hover {\n",
       "  color: var(--xr-font-color0);\n",
       "}\n",
       "\n",
       ".xr-section-summary {\n",
       "  grid-column: 1;\n",
       "  color: var(--xr-font-color2);\n",
       "  font-weight: 500;\n",
       "}\n",
       "\n",
       ".xr-section-summary > span {\n",
       "  display: inline-block;\n",
       "  padding-left: 0.5em;\n",
       "}\n",
       "\n",
       ".xr-section-summary-in:disabled + label {\n",
       "  color: var(--xr-font-color2);\n",
       "}\n",
       "\n",
       ".xr-section-summary-in + label:before {\n",
       "  display: inline-block;\n",
       "  content: '►';\n",
       "  font-size: 11px;\n",
       "  width: 15px;\n",
       "  text-align: center;\n",
       "}\n",
       "\n",
       ".xr-section-summary-in:disabled + label:before {\n",
       "  color: var(--xr-disabled-color);\n",
       "}\n",
       "\n",
       ".xr-section-summary-in:checked + label:before {\n",
       "  content: '▼';\n",
       "}\n",
       "\n",
       ".xr-section-summary-in:checked + label > span {\n",
       "  display: none;\n",
       "}\n",
       "\n",
       ".xr-section-summary,\n",
       ".xr-section-inline-details {\n",
       "  padding-top: 4px;\n",
       "  padding-bottom: 4px;\n",
       "}\n",
       "\n",
       ".xr-section-inline-details {\n",
       "  grid-column: 2 / -1;\n",
       "}\n",
       "\n",
       ".xr-section-details {\n",
       "  display: none;\n",
       "  grid-column: 1 / -1;\n",
       "  margin-bottom: 5px;\n",
       "}\n",
       "\n",
       ".xr-section-summary-in:checked ~ .xr-section-details {\n",
       "  display: contents;\n",
       "}\n",
       "\n",
       ".xr-array-wrap {\n",
       "  grid-column: 1 / -1;\n",
       "  display: grid;\n",
       "  grid-template-columns: 20px auto;\n",
       "}\n",
       "\n",
       ".xr-array-wrap > label {\n",
       "  grid-column: 1;\n",
       "  vertical-align: top;\n",
       "}\n",
       "\n",
       ".xr-preview {\n",
       "  color: var(--xr-font-color3);\n",
       "}\n",
       "\n",
       ".xr-array-preview,\n",
       ".xr-array-data {\n",
       "  padding: 0 5px !important;\n",
       "  grid-column: 2;\n",
       "}\n",
       "\n",
       ".xr-array-data,\n",
       ".xr-array-in:checked ~ .xr-array-preview {\n",
       "  display: none;\n",
       "}\n",
       "\n",
       ".xr-array-in:checked ~ .xr-array-data,\n",
       ".xr-array-preview {\n",
       "  display: inline-block;\n",
       "}\n",
       "\n",
       ".xr-dim-list {\n",
       "  display: inline-block !important;\n",
       "  list-style: none;\n",
       "  padding: 0 !important;\n",
       "  margin: 0;\n",
       "}\n",
       "\n",
       ".xr-dim-list li {\n",
       "  display: inline-block;\n",
       "  padding: 0;\n",
       "  margin: 0;\n",
       "}\n",
       "\n",
       ".xr-dim-list:before {\n",
       "  content: '(';\n",
       "}\n",
       "\n",
       ".xr-dim-list:after {\n",
       "  content: ')';\n",
       "}\n",
       "\n",
       ".xr-dim-list li:not(:last-child):after {\n",
       "  content: ',';\n",
       "  padding-right: 5px;\n",
       "}\n",
       "\n",
       ".xr-has-index {\n",
       "  font-weight: bold;\n",
       "}\n",
       "\n",
       ".xr-var-list,\n",
       ".xr-var-item {\n",
       "  display: contents;\n",
       "}\n",
       "\n",
       ".xr-var-item > div,\n",
       ".xr-var-item label,\n",
       ".xr-var-item > .xr-var-name span {\n",
       "  background-color: var(--xr-background-color-row-even);\n",
       "  margin-bottom: 0;\n",
       "}\n",
       "\n",
       ".xr-var-item > .xr-var-name:hover span {\n",
       "  padding-right: 5px;\n",
       "}\n",
       "\n",
       ".xr-var-list > li:nth-child(odd) > div,\n",
       ".xr-var-list > li:nth-child(odd) > label,\n",
       ".xr-var-list > li:nth-child(odd) > .xr-var-name span {\n",
       "  background-color: var(--xr-background-color-row-odd);\n",
       "}\n",
       "\n",
       ".xr-var-name {\n",
       "  grid-column: 1;\n",
       "}\n",
       "\n",
       ".xr-var-dims {\n",
       "  grid-column: 2;\n",
       "}\n",
       "\n",
       ".xr-var-dtype {\n",
       "  grid-column: 3;\n",
       "  text-align: right;\n",
       "  color: var(--xr-font-color2);\n",
       "}\n",
       "\n",
       ".xr-var-preview {\n",
       "  grid-column: 4;\n",
       "}\n",
       "\n",
       ".xr-var-name,\n",
       ".xr-var-dims,\n",
       ".xr-var-dtype,\n",
       ".xr-preview,\n",
       ".xr-attrs dt {\n",
       "  white-space: nowrap;\n",
       "  overflow: hidden;\n",
       "  text-overflow: ellipsis;\n",
       "  padding-right: 10px;\n",
       "}\n",
       "\n",
       ".xr-var-name:hover,\n",
       ".xr-var-dims:hover,\n",
       ".xr-var-dtype:hover,\n",
       ".xr-attrs dt:hover {\n",
       "  overflow: visible;\n",
       "  width: auto;\n",
       "  z-index: 1;\n",
       "}\n",
       "\n",
       ".xr-var-attrs,\n",
       ".xr-var-data {\n",
       "  display: none;\n",
       "  background-color: var(--xr-background-color) !important;\n",
       "  padding-bottom: 5px !important;\n",
       "}\n",
       "\n",
       ".xr-var-attrs-in:checked ~ .xr-var-attrs,\n",
       ".xr-var-data-in:checked ~ .xr-var-data {\n",
       "  display: block;\n",
       "}\n",
       "\n",
       ".xr-var-data > table {\n",
       "  float: right;\n",
       "}\n",
       "\n",
       ".xr-var-name span,\n",
       ".xr-var-data,\n",
       ".xr-attrs {\n",
       "  padding-left: 25px !important;\n",
       "}\n",
       "\n",
       ".xr-attrs,\n",
       ".xr-var-attrs,\n",
       ".xr-var-data {\n",
       "  grid-column: 1 / -1;\n",
       "}\n",
       "\n",
       "dl.xr-attrs {\n",
       "  padding: 0;\n",
       "  margin: 0;\n",
       "  display: grid;\n",
       "  grid-template-columns: 125px auto;\n",
       "}\n",
       "\n",
       ".xr-attrs dt,\n",
       ".xr-attrs dd {\n",
       "  padding: 0;\n",
       "  margin: 0;\n",
       "  float: left;\n",
       "  padding-right: 10px;\n",
       "  width: auto;\n",
       "}\n",
       "\n",
       ".xr-attrs dt {\n",
       "  font-weight: normal;\n",
       "  grid-column: 1;\n",
       "}\n",
       "\n",
       ".xr-attrs dt:hover span {\n",
       "  display: inline-block;\n",
       "  background: var(--xr-background-color);\n",
       "  padding-right: 10px;\n",
       "}\n",
       "\n",
       ".xr-attrs dd {\n",
       "  grid-column: 2;\n",
       "  white-space: pre-wrap;\n",
       "  word-break: break-all;\n",
       "}\n",
       "\n",
       ".xr-icon-database,\n",
       ".xr-icon-file-text2 {\n",
       "  display: inline-block;\n",
       "  vertical-align: middle;\n",
       "  width: 1em;\n",
       "  height: 1.5em !important;\n",
       "  stroke-width: 0;\n",
       "  stroke: currentColor;\n",
       "  fill: currentColor;\n",
       "}\n",
       "</style><pre class='xr-text-repr-fallback'>&lt;xarray.DataArray &#x27;wind_east&#x27; (time: 52260)&gt;\n",
       "array([3.52380437, 3.54604839, 3.64057647, ..., 6.43797594, 6.99493419,\n",
       "       6.1500001 ])\n",
       "Coordinates:\n",
       "  * time       (time) datetime64[ns] 2020-01-01 ... 2020-12-31T23:50:00\n",
       "    latitude   float32 36.78\n",
       "    longitude  float32 -122.4</pre><div class='xr-wrap' hidden><div class='xr-header'><div class='xr-obj-type'>xarray.DataArray</div><div class='xr-array-name'>'wind_east'</div><ul class='xr-dim-list'><li><span class='xr-has-index'>time</span>: 52260</li></ul></div><ul class='xr-sections'><li class='xr-section-item'><div class='xr-array-wrap'><input id='section-364bd91c-f109-4c4b-9de1-f012e2615e98' class='xr-array-in' type='checkbox' checked><label for='section-364bd91c-f109-4c4b-9de1-f012e2615e98' title='Show/hide data repr'><svg class='icon xr-icon-database'><use xlink:href='#icon-database'></use></svg></label><div class='xr-array-preview xr-preview'><span>3.524 3.546 3.641 4.096 4.153 3.979 ... 6.129 6.386 6.438 6.995 6.15</span></div><div class='xr-array-data'><pre>array([3.52380437, 3.54604839, 3.64057647, ..., 6.43797594, 6.99493419,\n",
       "       6.1500001 ])</pre></div></div></li><li class='xr-section-item'><input id='section-5a99470a-f8fb-4250-9e1a-9856e117aa55' class='xr-section-summary-in' type='checkbox'  checked><label for='section-5a99470a-f8fb-4250-9e1a-9856e117aa55' class='xr-section-summary' >Coordinates: <span>(3)</span></label><div class='xr-section-inline-details'></div><div class='xr-section-details'><ul class='xr-var-list'><li class='xr-var-item'><div class='xr-var-name'><span class='xr-has-index'>time</span></div><div class='xr-var-dims'>(time)</div><div class='xr-var-dtype'>datetime64[ns]</div><div class='xr-var-preview xr-preview'>2020-01-01 ... 2020-12-31T23:50:00</div><input id='attrs-4395738b-945b-4072-9429-6ba0cb7f5546' class='xr-var-attrs-in' type='checkbox' ><label for='attrs-4395738b-945b-4072-9429-6ba0cb7f5546' title='Show/Hide attributes'><svg class='icon xr-icon-file-text2'><use xlink:href='#icon-file-text2'></use></svg></label><input id='data-f3d7bb20-785d-4a0e-be41-7fa44f501ed2' class='xr-var-data-in' type='checkbox'><label for='data-f3d7bb20-785d-4a0e-be41-7fa44f501ed2' title='Show/Hide data repr'><svg class='icon xr-icon-database'><use xlink:href='#icon-database'></use></svg></label><div class='xr-var-attrs'><dl class='xr-attrs'><dt><span>long_name :</span></dt><dd>Epoch Time</dd><dt><span>short_name :</span></dt><dd>time</dd><dt><span>standard_name :</span></dt><dd>time</dd></dl></div><div class='xr-var-data'><pre>array([&#x27;2020-01-01T00:00:00.000000000&#x27;, &#x27;2020-01-01T00:10:00.000000000&#x27;,\n",
       "       &#x27;2020-01-01T00:20:00.000000000&#x27;, ..., &#x27;2020-12-31T23:30:00.000000000&#x27;,\n",
       "       &#x27;2020-12-31T23:40:00.000000000&#x27;, &#x27;2020-12-31T23:50:00.000000000&#x27;],\n",
       "      dtype=&#x27;datetime64[ns]&#x27;)</pre></div></li><li class='xr-var-item'><div class='xr-var-name'><span>latitude</span></div><div class='xr-var-dims'>()</div><div class='xr-var-dtype'>float32</div><div class='xr-var-preview xr-preview'>36.78</div><input id='attrs-f96fff2c-f69a-44e4-b4c1-734125a1bb18' class='xr-var-attrs-in' type='checkbox' ><label for='attrs-f96fff2c-f69a-44e4-b4c1-734125a1bb18' title='Show/Hide attributes'><svg class='icon xr-icon-file-text2'><use xlink:href='#icon-file-text2'></use></svg></label><input id='data-b72d1169-5f37-4514-9e17-3166a1c21e0b' class='xr-var-data-in' type='checkbox'><label for='data-b72d1169-5f37-4514-9e17-3166a1c21e0b' title='Show/Hide data repr'><svg class='icon xr-icon-database'><use xlink:href='#icon-database'></use></svg></label><div class='xr-var-attrs'><dl class='xr-attrs'><dt><span>long_name :</span></dt><dd>Latitude</dd><dt><span>short_name :</span></dt><dd>latitude</dd><dt><span>standard_name :</span></dt><dd>latitude</dd><dt><span>units :</span></dt><dd>degrees_north</dd></dl></div><div class='xr-var-data'><pre>array(36.785, dtype=float32)</pre></div></li><li class='xr-var-item'><div class='xr-var-name'><span>longitude</span></div><div class='xr-var-dims'>()</div><div class='xr-var-dtype'>float32</div><div class='xr-var-preview xr-preview'>-122.4</div><input id='attrs-98407381-4f47-4d19-a7bf-f27af753f22e' class='xr-var-attrs-in' type='checkbox' ><label for='attrs-98407381-4f47-4d19-a7bf-f27af753f22e' title='Show/Hide attributes'><svg class='icon xr-icon-file-text2'><use xlink:href='#icon-file-text2'></use></svg></label><input id='data-9f045f86-224a-4883-ad1c-e5b0767a9055' class='xr-var-data-in' type='checkbox'><label for='data-9f045f86-224a-4883-ad1c-e5b0767a9055' title='Show/Hide data repr'><svg class='icon xr-icon-database'><use xlink:href='#icon-database'></use></svg></label><div class='xr-var-attrs'><dl class='xr-attrs'><dt><span>long_name :</span></dt><dd>Longitude</dd><dt><span>short_name :</span></dt><dd>longitude</dd><dt><span>standard_name :</span></dt><dd>longitude</dd><dt><span>units :</span></dt><dd>degrees_east</dd></dl></div><div class='xr-var-data'><pre>array(-122.398, dtype=float32)</pre></div></li></ul></div></li><li class='xr-section-item'><input id='section-d8feca9e-b42c-4353-89a6-0028e5d59d94' class='xr-section-summary-in' type='checkbox' disabled ><label for='section-d8feca9e-b42c-4353-89a6-0028e5d59d94' class='xr-section-summary'  title='Expand/collapse section'>Attributes: <span>(0)</span></label><div class='xr-section-inline-details'></div><div class='xr-section-details'><dl class='xr-attrs'></dl></div></li></ul></div></div>"
      ],
      "text/plain": [
       "<xarray.DataArray 'wind_east' (time: 52260)>\n",
       "array([3.52380437, 3.54604839, 3.64057647, ..., 6.43797594, 6.99493419,\n",
       "       6.1500001 ])\n",
       "Coordinates:\n",
       "  * time       (time) datetime64[ns] 2020-01-01 ... 2020-12-31T23:50:00\n",
       "    latitude   float32 36.78\n",
       "    longitude  float32 -122.4"
      ]
     },
     "execution_count": 50,
     "metadata": {},
     "output_type": "execute_result"
    }
   ],
   "source": [
    "ds['wind_east']"
   ]
  },
  {
   "cell_type": "markdown",
   "metadata": {
    "id": "_SEZ5hR5HAnI"
   },
   "source": [
    "#### Plot the vector components"
   ]
  },
  {
   "cell_type": "markdown",
   "metadata": {
    "id": "2NPDdkYJHAnI"
   },
   "source": [
    "Plot the time series of eastward velocity and northward velocity (time on the x-axis, both eastward and northward velocity on the y-axis)."
   ]
  },
  {
   "cell_type": "code",
   "execution_count": 51,
   "metadata": {
    "colab": {
     "base_uri": "https://localhost:8080/",
     "height": 298
    },
    "id": "rvDKs8BEHAnK",
    "outputId": "bf463f9d-d8b5-45bf-b920-87aa2dab9eb4"
   },
   "outputs": [
    {
     "data": {
      "text/plain": [
       "<matplotlib.legend.Legend at 0x15896ac10>"
      ]
     },
     "execution_count": 51,
     "metadata": {},
     "output_type": "execute_result"
    },
    {
     "data": {
      "image/png": "[encoded data removed]",
      "text/plain": [
       "<Figure size 720x288 with 1 Axes>"
      ]
     },
     "metadata": {
      "needs_background": "light"
     },
     "output_type": "display_data"
    }
   ],
   "source": [
    "plt.figure(figsize=(10,4))\n",
    "plt.plot(ds['time'],ds['wind_east'])\n",
    "plt.plot(ds['time'],ds['wind_north'])\n",
    "plt.ylabel('[m/s]')\n",
    "plt.title('wind velocity')\n",
    "plt.legend(['eastward','northward'])"
   ]
  },
  {
   "cell_type": "markdown",
   "metadata": {
    "id": "wkqWKIe8HAnP"
   },
   "source": [
    "##### *Exercise*\n",
    "\n",
    "Identify a time when wind is blowing from the northwest and towards the southeast. This direction is favorable for upwelling along the California coast."
   ]
  },
  {
   "cell_type": "markdown",
   "metadata": {
    "id": "S2-_mSahHAnP"
   },
   "source": [
    "*(insert text here)*"
   ]
  },
  {
   "cell_type": "markdown",
   "metadata": {
    "id": "_IZ3uLjjHAnR"
   },
   "source": [
    "#### Alignment of wind velocity"
   ]
  },
  {
   "cell_type": "markdown",
   "metadata": {
    "id": "TQjg9G8fHAnR"
   },
   "source": [
    "By plotting eastward wind vs. northward wind, we can see that the wind off Monterey Bay tends to blow towards the southeast (upwelling-favorable) or towards the northwest (downwelling-favorable). This is because the wind tends to be steered parallel to the local coastline by coastal mountain ranges along the west coast."
   ]
  },
  {
   "cell_type": "code",
   "execution_count": 52,
   "metadata": {
    "colab": {
     "base_uri": "https://localhost:8080/",
     "height": 279
    },
    "id": "5OspyiueHAnS",
    "outputId": "d502c784-8c86-4b40-a84e-5eff8178b711"
   },
   "outputs": [
    {
     "data": {
      "image/png": "[encoded data removed]",
      "text/plain": [
       "<Figure size 432x288 with 1 Axes>"
      ]
     },
     "metadata": {
      "needs_background": "light"
     },
     "output_type": "display_data"
    }
   ],
   "source": [
    "plt.figure()\n",
    "plt.plot(ds['wind_east'],ds['wind_north'],'.')\n",
    "plt.xlabel('eastward wind [m/s]')\n",
    "plt.ylabel('northward wind [m/s]')\n",
    "plt.axis('equal'); # make the scale equal on the x and y axes"
   ]
  },
  {
   "cell_type": "markdown",
   "metadata": {
    "id": "MEdwX8D9HAnW"
   },
   "source": [
    "### Calculating wind stress\n",
    "\n",
    "Physical oceanographers are often more interested in the *wind stress* than the wind speed. The wind stress is the force exerted on the surface of the ocean by the wind, and it has units of force per unit area [N/m$^2$] or [Pa]. Stress is typically denoted by the variable $\\tau$ (tau). Like wind velocity, wind stress is a vector and has both an eastward component ($\\tau^{se}$) and a northward component ($\\tau^{sn}$).\n",
    "\n",
    "The wind stress generally varies as a function of wind speed and the roughness of the sea surface (which also depends on the wind speed). To calculate stress, we need to know the wind velocity, and how high above the sea surface the wind measurements were collected.\n",
    "\n",
    "According to the [NDBC buoy site](https://www.ndbc.noaa.gov/station_page.php?station=46042), the anemometer that collects the wind observations is positioned at a height 4.1 m above the sea surface.\n",
    "\n",
    "We can use the `stress` function in the Python [airsea toolbox](https://github.com/pyoceans/python-airsea) to calculate the magnitude of the wind stress from the wind speed and measurement height."
   ]
  },
  {
   "cell_type": "code",
   "execution_count": 53,
   "metadata": {
    "id": "237-Y8pwHAnW"
   },
   "outputs": [],
   "source": [
    "tau = stress(ds['wind_spd'],z=4.1)"
   ]
  },
  {
   "cell_type": "markdown",
   "metadata": {
    "id": "qhSipH-hHAna"
   },
   "source": [
    "Use some trig to find the eastward and northward components of stress. The direction of the wind stress is the same as the direction of the wind velocity."
   ]
  },
  {
   "cell_type": "code",
   "execution_count": 54,
   "metadata": {
    "id": "N7oPwUUdHAnb"
   },
   "outputs": [],
   "source": [
    "tau_east = tau*np.cos(np.arctan2(ds['wind_north'],ds['wind_east']))\n",
    "tau_north = tau*np.sin(np.arctan2(ds['wind_north'],ds['wind_east']))"
   ]
  },
  {
   "cell_type": "markdown",
   "metadata": {
    "id": "-nUtGtXUHAne"
   },
   "source": [
    "Add these variables to the dataset."
   ]
  },
  {
   "cell_type": "code",
   "execution_count": 55,
   "metadata": {
    "id": "3kO99tXPHAne"
   },
   "outputs": [],
   "source": [
    "ds['tau_east'] = (('time'), tau_east)\n",
    "ds['tau_north'] = (('time'), tau_north)"
   ]
  },
  {
   "cell_type": "code",
   "execution_count": 56,
   "metadata": {
    "colab": {
     "base_uri": "https://localhost:8080/",
     "height": 298
    },
    "id": "tiDfd_2zHAnj",
    "outputId": "a1645974-2f55-41c9-a9dc-a9122e53e21a"
   },
   "outputs": [
    {
     "data": {
      "text/plain": [
       "<matplotlib.legend.Legend at 0x158ba2970>"
      ]
     },
     "execution_count": 56,
     "metadata": {},
     "output_type": "execute_result"
    },
    {
     "data": {
      "image/png": "[encoded data removed]",
      "text/plain": [
       "<Figure size 720x288 with 1 Axes>"
      ]
     },
     "metadata": {
      "needs_background": "light"
     },
     "output_type": "display_data"
    }
   ],
   "source": [
    "plt.figure(figsize=(10,4))\n",
    "plt.plot(ds['time'],ds['tau_east'])\n",
    "plt.plot(ds['time'],ds['tau_north'])\n",
    "plt.ylabel('[N/m$^2$]')\n",
    "plt.title('wind stress')\n",
    "plt.legend(['$\\\\tau^{se}$','$\\\\tau^{sn}$'])"
   ]
  },
  {
   "cell_type": "markdown",
   "metadata": {
    "id": "u4bQsE82HAnm"
   },
   "source": [
    "##### Exercise\n",
    "\n",
    "Plot the eastward component of wind stress vs. the northward component of wind stress. Before making the plot, what do you expect it to look like?"
   ]
  },
  {
   "cell_type": "markdown",
   "metadata": {
    "id": "bavi_GQDHAnn"
   },
   "source": [
    "*(insert text here)*"
   ]
  },
  {
   "cell_type": "code",
   "execution_count": 57,
   "metadata": {
    "id": "yCN17d2KHAnr"
   },
   "outputs": [],
   "source": [
    "# insert code here"
   ]
  },
  {
   "cell_type": "markdown",
   "metadata": {
    "id": "Yzedsc0EHAnu"
   },
   "source": [
    "### Coordinate system rotation\n",
    "\n",
    "#### Rotating wind stress vectors"
   ]
  },
  {
   "cell_type": "markdown",
   "metadata": {
    "id": "Bk1r6q7RHAnu"
   },
   "source": [
    "The northward and eastward components of wind stress are not always the most useful for studying upwelling. It is the alongshore component of wind stress (the component parallel to shore) that is most important for upwelling. The direction parallel to shore is not always conveniently aligned in the north-south or east-west directions.\n",
    "\n",
    "To calculate the alongshore component of wind stress, the vectors are rotated from geographic coordinates (east and north) to \"natural\" coordinates (cross-shore and alongshore). The `rot` function rotates vectors to a new coordinate system defined by the user."
   ]
  },
  {
   "cell_type": "code",
   "execution_count": 58,
   "metadata": {
    "id": "zUtmMZcPHAnv"
   },
   "outputs": [],
   "source": [
    "def rot(u,v,theta):\n",
    "    \"\"\"\n",
    "Rotate a vector counter-clockwise OR rotate the coordinate system clockwise.\n",
    "Usage:\n",
    "ur,vr = rot(u,v,theta)\n",
    "Input:\n",
    "u,v - vector components (e.g. u = eastward velocity, v = northward velocity)\n",
    "theta - rotation angle (degrees)\n",
    "Output:\n",
    "ur,vr - rotated vector components\n",
    "Example:\n",
    "rot(1,0,90) returns (0,1)\n",
    "    \"\"\"\n",
    "\n",
    "    w = u + 1j*v             # complex vector\n",
    "    ang = theta*np.pi/180    # convert angle to radians\n",
    "    wr = w*np.exp(1j*ang)    # complex vector rotation\n",
    "    ur = np.real(wr)         # return u and v components\n",
    "    vr = np.imag(wr)\n",
    "    return ur,vr"
   ]
  },
  {
   "cell_type": "markdown",
   "metadata": {
    "id": "basR5F1eHAnz"
   },
   "source": [
    "See what happens when the vectors are rotated 20 degrees clockwise."
   ]
  },
  {
   "cell_type": "code",
   "execution_count": 59,
   "metadata": {
    "id": "d_rexLy0HAnz"
   },
   "outputs": [],
   "source": [
    "rotation_angle = -20\n",
    "ds['tau_x'],ds['tau_y'] = rot(ds['tau_east'],ds['tau_north'],rotation_angle)"
   ]
  },
  {
   "cell_type": "code",
   "execution_count": 60,
   "metadata": {
    "colab": {
     "base_uri": "https://localhost:8080/",
     "height": 297
    },
    "id": "Or4-CPRaHAn4",
    "outputId": "4f2ea59e-e115-4d23-acd5-6eff59b82db7"
   },
   "outputs": [
    {
     "data": {
      "image/png": "[encoded data removed]",
      "text/plain": [
       "<Figure size 576x288 with 2 Axes>"
      ]
     },
     "metadata": {
      "needs_background": "light"
     },
     "output_type": "display_data"
    }
   ],
   "source": [
    "plt.figure(figsize=(8,4))\n",
    "plt.subplot(121)\n",
    "plt.plot(ds['tau_east'],ds['tau_north'],'.')\n",
    "plt.axis('equal')\n",
    "plt.xlabel('eastward stress ($\\\\tau^{se}$)')\n",
    "plt.ylabel('northward stress ($\\\\tau^{se}$)')\n",
    "plt.title('geographic coordinates')\n",
    "\n",
    "plt.subplot(122)\n",
    "plt.plot(ds['tau_x'],ds['tau_y'],'.')\n",
    "plt.axis('equal')\n",
    "plt.xlabel('stress in $x$-direction ($\\\\tau^{sx}$)')\n",
    "plt.ylabel('stress in $y$-direction ($\\\\tau^{sy}$)')\n",
    "plt.title('rotated coordinates')\n",
    "plt.tight_layout()"
   ]
  },
  {
   "cell_type": "markdown",
   "metadata": {
    "id": "-Utzgv_6HAn7"
   },
   "source": [
    "##### Exercise\n",
    "\n",
    "Modify the `rotation_angle` variable above and re-run the analysis. What angle makes the wind stress most aligned along the $y$ axis? What angle makes the wind stress most aligned along the $x$ axis?"
   ]
  },
  {
   "cell_type": "markdown",
   "metadata": {
    "id": "b-WgzucpHAn7"
   },
   "source": [
    "#### Principal axis angle\n",
    "\n",
    "Instead of trial and error, a principal axis analysis can be used to find the angle along which the wind stress is aligned. On the west coast, this typically corresponds with the local coastline. On the east coast, this is not necessarily case.\n",
    "\n",
    "The `princax` function can be used to find the pricipal axis angle. The variance of the data is maximized along this axis."
   ]
  },
  {
   "cell_type": "code",
   "execution_count": 61,
   "metadata": {
    "id": "35josaYjHAn8"
   },
   "outputs": [],
   "source": [
    "def princax(u,v=None):\n",
    "    '''\n",
    "Principal axes of a vector time series.\n",
    "Usage:\n",
    "theta,major,minor = princax(u,v) # if u and v are real-valued vector components\n",
    "    or\n",
    "theta,major,minor = princax(w)   # if w is a complex vector\n",
    "Input:\n",
    "u,v - 1-D arrays of vector components (e.g. u = eastward velocity, v = northward velocity)\n",
    "    or\n",
    "w - 1-D array of complex vectors (u + 1j*v)\n",
    "Output:\n",
    "theta - angle of major axis (math notation, e.g. east = 0, north = 90)\n",
    "major - standard deviation along major axis\n",
    "minor - standard deviation along minor axis\n",
    "Reference: Emery and Thomson, 2001, Data Analysis Methods in Physical Oceanography, 2nd ed., pp. 325-328.\n",
    "Matlab function: http://woodshole.er.usgs.gov/operations/sea-mat/RPSstuff-html/princax.html\n",
    "    '''\n",
    "\n",
    "    # if one input only, decompose complex vector\n",
    "    if v is None:\n",
    "        w = np.copy(u)\n",
    "        u = np.real(w)\n",
    "        v = np.imag(w)\n",
    "\n",
    "    # only use finite values for covariance matrix\n",
    "    ii = np.isfinite(u+v)\n",
    "    uf = u[ii]\n",
    "    vf = v[ii]\n",
    "\n",
    "    # compute covariance matrix\n",
    "    C = np.cov(uf,vf)\n",
    "\n",
    "    # calculate principal axis angle (ET, Equation 4.3.23b)\n",
    "    theta = 0.5*np.arctan2(2.*C[0,1],(C[0,0] - C[1,1])) * 180/np.pi\n",
    "\n",
    "    # calculate variance along major and minor axes (Equation 4.3.24)\n",
    "    term1 = C[0,0] + C[1,1]\n",
    "    term2 = ((C[0,0] - C[1,1])**2 + 4*(C[0,1]**2))**0.5\n",
    "    major = np.sqrt(0.5*(term1 + term2))\n",
    "    minor = np.sqrt(0.5*(term1 - term2))\n",
    "\n",
    "    return theta,major,minor"
   ]
  },
  {
   "cell_type": "markdown",
   "metadata": {
    "id": "IyszXTExHAoA"
   },
   "source": [
    "Use this function on the wind stress data."
   ]
  },
  {
   "cell_type": "code",
   "execution_count": 62,
   "metadata": {
    "id": "2a7JXAD8HAoA"
   },
   "outputs": [],
   "source": [
    "theta,major,minor = princax(ds['tau_east'],ds['tau_north'])"
   ]
  },
  {
   "cell_type": "markdown",
   "metadata": {
    "id": "sj3NHoKHHAoD"
   },
   "source": [
    "Rotate the wind data based on the principal axis angle. Note that it is common among oceanographers on the west coast to align the alongshore coordinate with the $y$-axis, but this is up to you."
   ]
  },
  {
   "cell_type": "code",
   "execution_count": 63,
   "metadata": {
    "id": "yaV3jPOeHAoE"
   },
   "outputs": [],
   "source": [
    "ds['tau_x'],ds['tau_y'] = rot(ds['tau_east'],ds['tau_north'],-theta-90)"
   ]
  },
  {
   "cell_type": "code",
   "execution_count": 64,
   "metadata": {
    "colab": {
     "base_uri": "https://localhost:8080/",
     "height": 316
    },
    "id": "pP-JBb9ZHAoG",
    "outputId": "5a86fac4-4a2f-4f90-c0ef-b8b300255840"
   },
   "outputs": [
    {
     "data": {
      "text/plain": [
       "Text(0.5, 1.0, 'rotated coordinates')"
      ]
     },
     "execution_count": 64,
     "metadata": {},
     "output_type": "execute_result"
    },
    {
     "data": {
      "image/png": "[encoded data removed]",
      "text/plain": [
       "<Figure size 432x288 with 1 Axes>"
      ]
     },
     "metadata": {
      "needs_background": "light"
     },
     "output_type": "display_data"
    }
   ],
   "source": [
    "plt.figure()\n",
    "plt.plot(ds['tau_x'],ds['tau_y'],'.')\n",
    "plt.axis('equal')\n",
    "plt.xlabel('stress in $x$-direction ($\\\\tau^{sx}$)')\n",
    "plt.ylabel('stress in $y$-direction ($\\\\tau^{sy}$)')\n",
    "plt.title('rotated coordinates')"
   ]
  },
  {
   "cell_type": "markdown",
   "metadata": {
    "id": "_En7hQ2FHAoJ"
   },
   "source": [
    "Plot the time series. The negative values of the alongshore wind stress ($\\tau^{sy}$) indicate upwelling-favorable winds. The positive values indicate downwelling favorable winds."
   ]
  },
  {
   "cell_type": "code",
   "execution_count": 65,
   "metadata": {
    "colab": {
     "base_uri": "https://localhost:8080/",
     "height": 298
    },
    "id": "d-T9yxb1HAoK",
    "outputId": "a66b7d1f-23e4-4463-cd75-9e52b2473ca0"
   },
   "outputs": [
    {
     "data": {
      "text/plain": [
       "<matplotlib.legend.Legend at 0x15c108af0>"
      ]
     },
     "execution_count": 65,
     "metadata": {},
     "output_type": "execute_result"
    },
    {
     "data": {
      "image/png": "[encoded data removed]",
      "text/plain": [
       "<Figure size 720x288 with 1 Axes>"
      ]
     },
     "metadata": {
      "needs_background": "light"
     },
     "output_type": "display_data"
    }
   ],
   "source": [
    "plt.figure(figsize=(10,4))\n",
    "plt.plot(ds['time'],ds['tau_x'])\n",
    "plt.plot(ds['time'],ds['tau_y'])\n",
    "plt.ylabel('[N/m$^2$]')\n",
    "plt.title('wind stress')\n",
    "plt.legend(['$\\\\tau^{sx}$','$\\\\tau^{sy}$'])"
   ]
  },
  {
   "cell_type": "markdown",
   "metadata": {
    "id": "tPYcRKCsHAoN"
   },
   "source": [
    "Now that we have an alongshore wind stress variable, we can calculate the transport associated with coastal upwelling. These same steps can be applied to other NDBC buoys, or wind data from other sources. \n",
    "\n",
    "Keep in mind that this tutorial focuses on the west coast, where the winds are steered in the alongshore direction by the coastal range. On the east coast, cross-shore winds may be more significant and the alignment of the wind may vary by season or the type of weather systems present.\n",
    "\n",
    "##### Exercise \n",
    "\n",
    "Physical oceanography calculation. From the alongshore wind stress $\\tau^{sy}$, compute the offshore Ekman transport $U_{Ek}$ (the onshore/offshore displacement of surface water due to the Earth's rotation). \n",
    "\n",
    "$$ U_{Ek} = \\frac{\\tau^{sy}}{\\rho_o f} $$\n",
    "\n",
    "where $\\rho_o$ is the approximate density of seawater [kg/m$^3$] and $f$ is the local Coriolis paramater [s$^{-1}$]."
   ]
  },
  {
   "cell_type": "markdown",
   "metadata": {
    "id": "qEm-jSI_HAoO"
   },
   "source": [
    "##### Exercise\n",
    "\n",
    "Apply this same analysis to another NDBC buoy on the west coast. \n",
    "\n",
    "* Find the buoy ID number using the map interface at https://www.ndbc.noaa.gov/\n",
    "* In the `ncfile` variable above, replace 46042 with the new buoy ID number."
   ]
  },
  {
   "cell_type": "code",
   "execution_count": null,
   "metadata": {},
   "outputs": [],
   "source": []
  }
 ],
 "metadata": {
  "colab": {
   "include_colab_link": true,
   "name": "NDBC-wind-analysis.ipynb",
   "provenance": [],
   "toc_visible": true
  },
  "kernelspec": {
   "display_name": "Python 3",
   "language": "python",
   "name": "python3"
  },
  "language_info": {
   "codemirror_mode": {
    "name": "ipython",
    "version": 3
   },
   "file_extension": ".py",
   "mimetype": "text/x-python",
   "name": "python",
   "nbconvert_exporter": "python",
   "pygments_lexer": "ipython3",
   "version": "3.8.6"
  }
 },
 "nbformat": 4,
 "nbformat_minor": 4
}
